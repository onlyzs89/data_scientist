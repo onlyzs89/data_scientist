{
 "cells": [
  {
   "cell_type": "code",
   "execution_count": 1,
   "metadata": {
    "collapsed": true
   },
   "outputs": [],
   "source": [
    "import warnings\n",
    "warnings.filterwarnings('ignore')\n",
    "\n",
    "from matplotlib import pylab as plt\n",
    "%matplotlib inline"
   ]
  },
  {
   "cell_type": "code",
   "execution_count": 2,
   "metadata": {
    "collapsed": true
   },
   "outputs": [],
   "source": [
    "import pandas as pd\n",
    "import numpy as np\n",
    "import seaborn as sns"
   ]
  },
  {
   "cell_type": "code",
   "execution_count": 3,
   "metadata": {
    "collapsed": true
   },
   "outputs": [],
   "source": [
    "random_state = 666"
   ]
  },
  {
   "cell_type": "markdown",
   "metadata": {},
   "source": [
    "Read Data"
   ]
  },
  {
   "cell_type": "code",
   "execution_count": 4,
   "metadata": {
    "collapsed": true
   },
   "outputs": [],
   "source": [
    "import datetime\n",
    "df = pd.read_csv(\n",
    "    \"newtest.csv\", \n",
    ")\n",
    "df = df.dropna()"
   ]
  },
  {
   "cell_type": "markdown",
   "metadata": {},
   "source": [
    "Label Hospital Name"
   ]
  },
  {
   "cell_type": "code",
   "execution_count": 5,
   "metadata": {
    "collapsed": true
   },
   "outputs": [],
   "source": [
    "from sklearn.preprocessing import LabelEncoder\n",
    "le = LabelEncoder()\n",
    "df['hos'] = le.fit_transform(df['hos'].values)"
   ]
  },
  {
   "cell_type": "code",
   "execution_count": 6,
   "metadata": {},
   "outputs": [
    {
     "data": {
      "text/plain": [
       "['井上病院', '岡山', '東京', '横浜', '福大', '聖マリア病院', '関西', '高松']"
      ]
     },
     "execution_count": 6,
     "metadata": {},
     "output_type": "execute_result"
    }
   ],
   "source": [
    "list(le.classes_)"
   ]
  },
  {
   "cell_type": "markdown",
   "metadata": {},
   "source": [
    "calculate date"
   ]
  },
  {
   "cell_type": "code",
   "execution_count": 7,
   "metadata": {
    "collapsed": true
   },
   "outputs": [],
   "source": [
    "df[\"date\"] = pd.to_datetime(df.loc[:,[\"year\",\"month\",\"day\"]])"
   ]
  },
  {
   "cell_type": "markdown",
   "metadata": {},
   "source": [
    "add dayofweek"
   ]
  },
  {
   "cell_type": "code",
   "execution_count": 8,
   "metadata": {
    "collapsed": true
   },
   "outputs": [],
   "source": [
    "df[\"day_of_week\"] = df[\"date\"].dt.dayofweek"
   ]
  },
  {
   "cell_type": "code",
   "execution_count": 9,
   "metadata": {
    "collapsed": true
   },
   "outputs": [],
   "source": [
    "df[\"week_number\"] = df[\"date\"].dt.week"
   ]
  },
  {
   "cell_type": "code",
   "execution_count": 10,
   "metadata": {},
   "outputs": [
    {
     "data": {
      "text/html": [
       "<div>\n",
       "<style>\n",
       "    .dataframe thead tr:only-child th {\n",
       "        text-align: right;\n",
       "    }\n",
       "\n",
       "    .dataframe thead th {\n",
       "        text-align: left;\n",
       "    }\n",
       "\n",
       "    .dataframe tbody tr th {\n",
       "        vertical-align: top;\n",
       "    }\n",
       "</style>\n",
       "<table border=\"1\" class=\"dataframe\">\n",
       "  <thead>\n",
       "    <tr style=\"text-align: right;\">\n",
       "      <th></th>\n",
       "      <th>hos</th>\n",
       "      <th>year</th>\n",
       "      <th>month</th>\n",
       "      <th>day</th>\n",
       "      <th>pre_avg_loc</th>\n",
       "      <th>pre_avg_sea</th>\n",
       "      <th>rain</th>\n",
       "      <th>temp_avg</th>\n",
       "      <th>temp_high</th>\n",
       "      <th>temp_low</th>\n",
       "      <th>...</th>\n",
       "      <th>wind_avg</th>\n",
       "      <th>wind_max</th>\n",
       "      <th>wind_max_ins</th>\n",
       "      <th>sun</th>\n",
       "      <th>pre_high</th>\n",
       "      <th>pre_low</th>\n",
       "      <th>px</th>\n",
       "      <th>date</th>\n",
       "      <th>day_of_week</th>\n",
       "      <th>week_number</th>\n",
       "    </tr>\n",
       "  </thead>\n",
       "  <tbody>\n",
       "    <tr>\n",
       "      <th>0</th>\n",
       "      <td>0</td>\n",
       "      <td>2014</td>\n",
       "      <td>1</td>\n",
       "      <td>4</td>\n",
       "      <td>1014.8</td>\n",
       "      <td>1015.1</td>\n",
       "      <td>0.0</td>\n",
       "      <td>6.3</td>\n",
       "      <td>13.2</td>\n",
       "      <td>1.7</td>\n",
       "      <td>...</td>\n",
       "      <td>1.7</td>\n",
       "      <td>4.6</td>\n",
       "      <td>8.5</td>\n",
       "      <td>3.6</td>\n",
       "      <td>1018.0</td>\n",
       "      <td>1012.6</td>\n",
       "      <td>0</td>\n",
       "      <td>2014-01-04</td>\n",
       "      <td>5</td>\n",
       "      <td>1</td>\n",
       "    </tr>\n",
       "    <tr>\n",
       "      <th>1</th>\n",
       "      <td>0</td>\n",
       "      <td>2014</td>\n",
       "      <td>1</td>\n",
       "      <td>5</td>\n",
       "      <td>1020.2</td>\n",
       "      <td>1020.5</td>\n",
       "      <td>0.0</td>\n",
       "      <td>5.2</td>\n",
       "      <td>9.0</td>\n",
       "      <td>2.1</td>\n",
       "      <td>...</td>\n",
       "      <td>1.7</td>\n",
       "      <td>3.2</td>\n",
       "      <td>7.4</td>\n",
       "      <td>7.5</td>\n",
       "      <td>1022.3</td>\n",
       "      <td>1018.2</td>\n",
       "      <td>0</td>\n",
       "      <td>2014-01-05</td>\n",
       "      <td>6</td>\n",
       "      <td>1</td>\n",
       "    </tr>\n",
       "    <tr>\n",
       "      <th>2</th>\n",
       "      <td>0</td>\n",
       "      <td>2014</td>\n",
       "      <td>1</td>\n",
       "      <td>6</td>\n",
       "      <td>1025.3</td>\n",
       "      <td>1025.7</td>\n",
       "      <td>0.0</td>\n",
       "      <td>4.2</td>\n",
       "      <td>9.9</td>\n",
       "      <td>0.2</td>\n",
       "      <td>...</td>\n",
       "      <td>1.3</td>\n",
       "      <td>3.3</td>\n",
       "      <td>5.7</td>\n",
       "      <td>5.5</td>\n",
       "      <td>1028.0</td>\n",
       "      <td>1021.3</td>\n",
       "      <td>0</td>\n",
       "      <td>2014-01-06</td>\n",
       "      <td>0</td>\n",
       "      <td>2</td>\n",
       "    </tr>\n",
       "    <tr>\n",
       "      <th>3</th>\n",
       "      <td>0</td>\n",
       "      <td>2014</td>\n",
       "      <td>1</td>\n",
       "      <td>7</td>\n",
       "      <td>1025.9</td>\n",
       "      <td>1026.3</td>\n",
       "      <td>0.0</td>\n",
       "      <td>4.8</td>\n",
       "      <td>9.9</td>\n",
       "      <td>-0.9</td>\n",
       "      <td>...</td>\n",
       "      <td>1.3</td>\n",
       "      <td>3.3</td>\n",
       "      <td>5.0</td>\n",
       "      <td>6.8</td>\n",
       "      <td>1028.7</td>\n",
       "      <td>1022.8</td>\n",
       "      <td>0</td>\n",
       "      <td>2014-01-07</td>\n",
       "      <td>1</td>\n",
       "      <td>2</td>\n",
       "    </tr>\n",
       "    <tr>\n",
       "      <th>4</th>\n",
       "      <td>0</td>\n",
       "      <td>2014</td>\n",
       "      <td>1</td>\n",
       "      <td>8</td>\n",
       "      <td>1015.2</td>\n",
       "      <td>1015.5</td>\n",
       "      <td>13.0</td>\n",
       "      <td>6.8</td>\n",
       "      <td>9.3</td>\n",
       "      <td>4.8</td>\n",
       "      <td>...</td>\n",
       "      <td>1.3</td>\n",
       "      <td>2.8</td>\n",
       "      <td>4.6</td>\n",
       "      <td>0.0</td>\n",
       "      <td>1022.3</td>\n",
       "      <td>1009.1</td>\n",
       "      <td>0</td>\n",
       "      <td>2014-01-08</td>\n",
       "      <td>2</td>\n",
       "      <td>2</td>\n",
       "    </tr>\n",
       "  </tbody>\n",
       "</table>\n",
       "<p>5 rows × 22 columns</p>\n",
       "</div>"
      ],
      "text/plain": [
       "   hos  year  month  day  pre_avg_loc  pre_avg_sea  rain  temp_avg  temp_high  \\\n",
       "0    0  2014      1    4       1014.8       1015.1   0.0       6.3       13.2   \n",
       "1    0  2014      1    5       1020.2       1020.5   0.0       5.2        9.0   \n",
       "2    0  2014      1    6       1025.3       1025.7   0.0       4.2        9.9   \n",
       "3    0  2014      1    7       1025.9       1026.3   0.0       4.8        9.9   \n",
       "4    0  2014      1    8       1015.2       1015.5  13.0       6.8        9.3   \n",
       "\n",
       "   temp_low     ...      wind_avg  wind_max  wind_max_ins  sun  pre_high  \\\n",
       "0       1.7     ...           1.7       4.6           8.5  3.6    1018.0   \n",
       "1       2.1     ...           1.7       3.2           7.4  7.5    1022.3   \n",
       "2       0.2     ...           1.3       3.3           5.7  5.5    1028.0   \n",
       "3      -0.9     ...           1.3       3.3           5.0  6.8    1028.7   \n",
       "4       4.8     ...           1.3       2.8           4.6  0.0    1022.3   \n",
       "\n",
       "   pre_low  px       date  day_of_week week_number  \n",
       "0   1012.6   0 2014-01-04            5           1  \n",
       "1   1018.2   0 2014-01-05            6           1  \n",
       "2   1021.3   0 2014-01-06            0           2  \n",
       "3   1022.8   0 2014-01-07            1           2  \n",
       "4   1009.1   0 2014-01-08            2           2  \n",
       "\n",
       "[5 rows x 22 columns]"
      ]
     },
     "execution_count": 10,
     "metadata": {},
     "output_type": "execute_result"
    }
   ],
   "source": [
    "df.head()"
   ]
  },
  {
   "cell_type": "markdown",
   "metadata": {},
   "source": [
    "---"
   ]
  },
  {
   "cell_type": "markdown",
   "metadata": {},
   "source": [
    "# Check Data "
   ]
  },
  {
   "cell_type": "markdown",
   "metadata": {},
   "source": [
    "病院ごとの発病率"
   ]
  },
  {
   "cell_type": "code",
   "execution_count": 11,
   "metadata": {
    "scrolled": false
   },
   "outputs": [
    {
     "data": {
      "text/plain": [
       "<matplotlib.axes._subplots.AxesSubplot at 0x20c68eb6588>"
      ]
     },
     "execution_count": 11,
     "metadata": {},
     "output_type": "execute_result"
    },
    {
     "data": {
      "image/png": "[encoded data removed]",
      "text/plain": [
       "<matplotlib.figure.Figure at 0x20c68eb6710>"
      ]
     },
     "metadata": {},
     "output_type": "display_data"
    }
   ],
   "source": [
    "df.groupby(\"hos\")[\"px\"].value_counts(normalize=True).plot(kind=\"bar\", figsize=(20,10), fontsize=20)"
   ]
  },
  {
   "cell_type": "markdown",
   "metadata": {},
   "source": [
    "2(東京)の発病率が高い ⇒ **地域と相関性があるかも？**"
   ]
  },
  {
   "cell_type": "markdown",
   "metadata": {},
   "source": [
    "月ごとの発病率"
   ]
  },
  {
   "cell_type": "code",
   "execution_count": 12,
   "metadata": {},
   "outputs": [
    {
     "data": {
      "text/plain": [
       "<matplotlib.axes._subplots.AxesSubplot at 0x20c68f9efd0>"
      ]
     },
     "execution_count": 12,
     "metadata": {},
     "output_type": "execute_result"
    },
    {
     "data": {
      "image/png": "[encoded data removed]",
      "text/plain": [
       "<matplotlib.figure.Figure at 0x20c68f984a8>"
      ]
     },
     "metadata": {},
     "output_type": "display_data"
    }
   ],
   "source": [
    "df.groupby(\"month\")[\"px\"].value_counts(normalize=True).plot(kind=\"bar\", figsize=(20,10), fontsize=20)"
   ]
  },
  {
   "cell_type": "markdown",
   "metadata": {},
   "source": [
    "年ごとの発病率"
   ]
  },
  {
   "cell_type": "code",
   "execution_count": 13,
   "metadata": {},
   "outputs": [
    {
     "data": {
      "text/plain": [
       "<matplotlib.axes._subplots.AxesSubplot at 0x20c6907d6a0>"
      ]
     },
     "execution_count": 13,
     "metadata": {},
     "output_type": "execute_result"
    },
    {
     "data": {
      "image/png": "[encoded data removed]",
      "text/plain": [
       "<matplotlib.figure.Figure at 0x20c690915c0>"
      ]
     },
     "metadata": {},
     "output_type": "display_data"
    }
   ],
   "source": [
    "df.groupby(\"year\")[\"px\"].value_counts(normalize=True).plot(kind=\"bar\", figsize=(20,10), fontsize=20)"
   ]
  },
  {
   "cell_type": "markdown",
   "metadata": {},
   "source": [
    "週ごとの発病率"
   ]
  },
  {
   "cell_type": "code",
   "execution_count": 14,
   "metadata": {},
   "outputs": [
    {
     "data": {
      "text/plain": [
       "<matplotlib.axes._subplots.AxesSubplot at 0x20c690f1f60>"
      ]
     },
     "execution_count": 14,
     "metadata": {},
     "output_type": "execute_result"
    },
    {
     "data": {
      "image/png": "[encoded data removed]",
      "text/plain": [
       "<matplotlib.figure.Figure at 0x20c67158828>"
      ]
     },
     "metadata": {},
     "output_type": "display_data"
    }
   ],
   "source": [
    "df.groupby(\"day_of_week\")[\"px\"].value_counts(normalize=True).plot(kind=\"bar\", figsize=(20,10), fontsize=20)"
   ]
  },
  {
   "cell_type": "markdown",
   "metadata": {},
   "source": [
    "---"
   ]
  },
  {
   "cell_type": "markdown",
   "metadata": {},
   "source": [
    "東京病院の発病数と日付の関係"
   ]
  },
  {
   "cell_type": "code",
   "execution_count": 15,
   "metadata": {
    "collapsed": true
   },
   "outputs": [],
   "source": [
    "df_01 = df[df.hos==2]\n",
    "df_01.index = df_01[\"date\"]"
   ]
  },
  {
   "cell_type": "code",
   "execution_count": 16,
   "metadata": {},
   "outputs": [
    {
     "data": {
      "text/plain": [
       "<matplotlib.axes._subplots.AxesSubplot at 0x20c691c5b38>"
      ]
     },
     "execution_count": 16,
     "metadata": {},
     "output_type": "execute_result"
    },
    {
     "data": {
      "image/png": "[encoded data removed]",
      "text/plain": [
       "<matplotlib.figure.Figure at 0x20c69218d68>"
      ]
     },
     "metadata": {},
     "output_type": "display_data"
    }
   ],
   "source": [
    "df_01[\"px\"].plot(figsize=(20,10), fontsize=20)"
   ]
  },
  {
   "cell_type": "markdown",
   "metadata": {},
   "source": [
    "---"
   ]
  },
  {
   "cell_type": "markdown",
   "metadata": {
    "collapsed": true
   },
   "source": [
    "## Plan1\n",
    "- 日付ごとに、発病数の合計を計算する"
   ]
  },
  {
   "cell_type": "code",
   "execution_count": 17,
   "metadata": {
    "collapsed": true
   },
   "outputs": [],
   "source": [
    "df2 = df.groupby(\"date\", as_index=False)[\"px\"].sum()\n",
    "\n",
    "for i in df.columns[(df.columns!=\"px\") & (df.columns!=\"hos\") & (df.columns!=\"date\")]:\n",
    "    tmp = df.groupby(\"date\", as_index=False)[i].mean()\n",
    "    df2 = pd.merge(df2, tmp, how='left', on=['date']) "
   ]
  },
  {
   "cell_type": "code",
   "execution_count": 18,
   "metadata": {},
   "outputs": [
    {
     "data": {
      "text/plain": [
       "0     1508\n",
       "1      448\n",
       "2       99\n",
       "3        8\n",
       "4        2\n",
       "23       1\n",
       "17       1\n",
       "7        1\n",
       "Name: px, dtype: int64"
      ]
     },
     "execution_count": 18,
     "metadata": {},
     "output_type": "execute_result"
    }
   ],
   "source": [
    "df2[\"px\"].value_counts()"
   ]
  },
  {
   "cell_type": "markdown",
   "metadata": {},
   "source": [
    "target: [0,1,2]"
   ]
  },
  {
   "cell_type": "code",
   "execution_count": 19,
   "metadata": {
    "collapsed": true
   },
   "outputs": [],
   "source": [
    "df2.loc[df2[\"px\"]>2,\"px\"] = 2"
   ]
  },
  {
   "cell_type": "markdown",
   "metadata": {},
   "source": [
    "- 週間集計結果も要因とする\n",
    "    - 気圧の平均、最大、最小\n",
    "    - 気温の平均、最大、最小\n",
    "    - 湿度の平均、最小"
   ]
  },
  {
   "cell_type": "code",
   "execution_count": 20,
   "metadata": {
    "collapsed": true
   },
   "outputs": [],
   "source": [
    "tmp = df2.groupby([pd.Grouper(freq='W', key='date')])['pre_low'].min()\n",
    "tmplist = []\n",
    "for i in tmp:\n",
    "    tmplist.extend([i]*7)\n",
    "df2[\"min_pre_low\"] = np.array(tmplist)[:len(df2)]\n",
    "\n",
    "tmp = df2.groupby([pd.Grouper(freq='W', key='date')])['pre_high'].max()\n",
    "tmplist = []\n",
    "for i in tmp:\n",
    "    tmplist.extend([i]*7)\n",
    "df2[\"max_pre_high\"] = np.array(tmplist)[:len(df2)]\n",
    "\n",
    "tmp = df2.groupby([pd.Grouper(freq='W', key='date')])['pre_avg_loc'].mean()\n",
    "tmplist = []\n",
    "for i in tmp:\n",
    "    tmplist.extend([i]*7)\n",
    "df2[\"mean_pre_avg_loc\"] = np.array(tmplist)[:len(df2)]\n",
    "\n",
    "tmp = df2.groupby([pd.Grouper(freq='W', key='date')])['temp_high'].max()\n",
    "tmplist = []\n",
    "for i in tmp:\n",
    "    tmplist.extend([i]*7)\n",
    "df2[\"max_temp_high\"] = np.array(tmplist)[:len(df2)]\n",
    "\n",
    "tmp = df2.groupby([pd.Grouper(freq='W', key='date')])['temp_low'].min()\n",
    "tmplist = []\n",
    "for i in tmp:\n",
    "    tmplist.extend([i]*7)\n",
    "df2[\"min_temp_low\"] = np.array(tmplist)[:len(df2)]\n",
    "\n",
    "tmp = df2.groupby([pd.Grouper(freq='W', key='date')])['temp_avg'].mean()\n",
    "tmplist = []\n",
    "for i in tmp:\n",
    "    tmplist.extend([i]*7)\n",
    "df2[\"mean_temp_avg\"] = np.array(tmplist)[:len(df2)]\n",
    "\n",
    "tmp = df2.groupby([pd.Grouper(freq='W', key='date')])['hum_avg'].mean()\n",
    "tmplist = []\n",
    "for i in tmp:\n",
    "    tmplist.extend([i]*7)\n",
    "df2[\"mean_hum_avg\"] = np.array(tmplist)[:len(df2)]\n",
    "\n",
    "tmp = df2.groupby([pd.Grouper(freq='W', key='date')])['hum_low'].min()\n",
    "tmplist = []\n",
    "for i in tmp:\n",
    "    tmplist.extend([i]*7)\n",
    "df2[\"min_hum_low\"] = np.array(tmplist)[:len(df2)]"
   ]
  },
  {
   "cell_type": "code",
   "execution_count": 21,
   "metadata": {},
   "outputs": [
    {
     "data": {
      "text/html": [
       "<div>\n",
       "<style>\n",
       "    .dataframe thead tr:only-child th {\n",
       "        text-align: right;\n",
       "    }\n",
       "\n",
       "    .dataframe thead th {\n",
       "        text-align: left;\n",
       "    }\n",
       "\n",
       "    .dataframe tbody tr th {\n",
       "        vertical-align: top;\n",
       "    }\n",
       "</style>\n",
       "<table border=\"1\" class=\"dataframe\">\n",
       "  <thead>\n",
       "    <tr style=\"text-align: right;\">\n",
       "      <th></th>\n",
       "      <th>date</th>\n",
       "      <th>px</th>\n",
       "      <th>year</th>\n",
       "      <th>month</th>\n",
       "      <th>day</th>\n",
       "      <th>pre_avg_loc</th>\n",
       "      <th>pre_avg_sea</th>\n",
       "      <th>rain</th>\n",
       "      <th>temp_avg</th>\n",
       "      <th>temp_high</th>\n",
       "      <th>...</th>\n",
       "      <th>day_of_week</th>\n",
       "      <th>week_number</th>\n",
       "      <th>min_pre_low</th>\n",
       "      <th>max_pre_high</th>\n",
       "      <th>mean_pre_avg_loc</th>\n",
       "      <th>max_temp_high</th>\n",
       "      <th>min_temp_low</th>\n",
       "      <th>mean_temp_avg</th>\n",
       "      <th>mean_hum_avg</th>\n",
       "      <th>min_hum_low</th>\n",
       "    </tr>\n",
       "  </thead>\n",
       "  <tbody>\n",
       "    <tr>\n",
       "      <th>0</th>\n",
       "      <td>2011-04-04</td>\n",
       "      <td>0</td>\n",
       "      <td>2011</td>\n",
       "      <td>4</td>\n",
       "      <td>4</td>\n",
       "      <td>1016.4</td>\n",
       "      <td>1020.5</td>\n",
       "      <td>0.0</td>\n",
       "      <td>10.3</td>\n",
       "      <td>17.1</td>\n",
       "      <td>...</td>\n",
       "      <td>0</td>\n",
       "      <td>14</td>\n",
       "      <td>1011.8</td>\n",
       "      <td>1023.5</td>\n",
       "      <td>1017.271429</td>\n",
       "      <td>22.1</td>\n",
       "      <td>4.5</td>\n",
       "      <td>13.942857</td>\n",
       "      <td>53.428571</td>\n",
       "      <td>13.0</td>\n",
       "    </tr>\n",
       "    <tr>\n",
       "      <th>1</th>\n",
       "      <td>2011-04-05</td>\n",
       "      <td>0</td>\n",
       "      <td>2011</td>\n",
       "      <td>4</td>\n",
       "      <td>5</td>\n",
       "      <td>1019.8</td>\n",
       "      <td>1023.8</td>\n",
       "      <td>0.0</td>\n",
       "      <td>12.1</td>\n",
       "      <td>21.0</td>\n",
       "      <td>...</td>\n",
       "      <td>1</td>\n",
       "      <td>14</td>\n",
       "      <td>1011.8</td>\n",
       "      <td>1023.5</td>\n",
       "      <td>1017.271429</td>\n",
       "      <td>22.1</td>\n",
       "      <td>4.5</td>\n",
       "      <td>13.942857</td>\n",
       "      <td>53.428571</td>\n",
       "      <td>13.0</td>\n",
       "    </tr>\n",
       "    <tr>\n",
       "      <th>2</th>\n",
       "      <td>2011-04-06</td>\n",
       "      <td>0</td>\n",
       "      <td>2011</td>\n",
       "      <td>4</td>\n",
       "      <td>6</td>\n",
       "      <td>1021.2</td>\n",
       "      <td>1025.2</td>\n",
       "      <td>0.0</td>\n",
       "      <td>14.3</td>\n",
       "      <td>22.1</td>\n",
       "      <td>...</td>\n",
       "      <td>2</td>\n",
       "      <td>14</td>\n",
       "      <td>1011.8</td>\n",
       "      <td>1023.5</td>\n",
       "      <td>1017.271429</td>\n",
       "      <td>22.1</td>\n",
       "      <td>4.5</td>\n",
       "      <td>13.942857</td>\n",
       "      <td>53.428571</td>\n",
       "      <td>13.0</td>\n",
       "    </tr>\n",
       "    <tr>\n",
       "      <th>3</th>\n",
       "      <td>2011-04-07</td>\n",
       "      <td>1</td>\n",
       "      <td>2011</td>\n",
       "      <td>4</td>\n",
       "      <td>7</td>\n",
       "      <td>1018.4</td>\n",
       "      <td>1022.3</td>\n",
       "      <td>0.0</td>\n",
       "      <td>17.3</td>\n",
       "      <td>21.9</td>\n",
       "      <td>...</td>\n",
       "      <td>3</td>\n",
       "      <td>14</td>\n",
       "      <td>1011.8</td>\n",
       "      <td>1023.5</td>\n",
       "      <td>1017.271429</td>\n",
       "      <td>22.1</td>\n",
       "      <td>4.5</td>\n",
       "      <td>13.942857</td>\n",
       "      <td>53.428571</td>\n",
       "      <td>13.0</td>\n",
       "    </tr>\n",
       "    <tr>\n",
       "      <th>4</th>\n",
       "      <td>2011-04-08</td>\n",
       "      <td>0</td>\n",
       "      <td>2011</td>\n",
       "      <td>4</td>\n",
       "      <td>8</td>\n",
       "      <td>1014.0</td>\n",
       "      <td>1018.0</td>\n",
       "      <td>24.0</td>\n",
       "      <td>14.9</td>\n",
       "      <td>16.4</td>\n",
       "      <td>...</td>\n",
       "      <td>4</td>\n",
       "      <td>14</td>\n",
       "      <td>1011.8</td>\n",
       "      <td>1023.5</td>\n",
       "      <td>1017.271429</td>\n",
       "      <td>22.1</td>\n",
       "      <td>4.5</td>\n",
       "      <td>13.942857</td>\n",
       "      <td>53.428571</td>\n",
       "      <td>13.0</td>\n",
       "    </tr>\n",
       "  </tbody>\n",
       "</table>\n",
       "<p>5 rows × 29 columns</p>\n",
       "</div>"
      ],
      "text/plain": [
       "        date  px  year  month  day  pre_avg_loc  pre_avg_sea  rain  temp_avg  \\\n",
       "0 2011-04-04   0  2011      4    4       1016.4       1020.5   0.0      10.3   \n",
       "1 2011-04-05   0  2011      4    5       1019.8       1023.8   0.0      12.1   \n",
       "2 2011-04-06   0  2011      4    6       1021.2       1025.2   0.0      14.3   \n",
       "3 2011-04-07   1  2011      4    7       1018.4       1022.3   0.0      17.3   \n",
       "4 2011-04-08   0  2011      4    8       1014.0       1018.0  24.0      14.9   \n",
       "\n",
       "   temp_high     ...       day_of_week  week_number  min_pre_low  \\\n",
       "0       17.1     ...                 0           14       1011.8   \n",
       "1       21.0     ...                 1           14       1011.8   \n",
       "2       22.1     ...                 2           14       1011.8   \n",
       "3       21.9     ...                 3           14       1011.8   \n",
       "4       16.4     ...                 4           14       1011.8   \n",
       "\n",
       "   max_pre_high  mean_pre_avg_loc  max_temp_high  min_temp_low  mean_temp_avg  \\\n",
       "0        1023.5       1017.271429           22.1           4.5      13.942857   \n",
       "1        1023.5       1017.271429           22.1           4.5      13.942857   \n",
       "2        1023.5       1017.271429           22.1           4.5      13.942857   \n",
       "3        1023.5       1017.271429           22.1           4.5      13.942857   \n",
       "4        1023.5       1017.271429           22.1           4.5      13.942857   \n",
       "\n",
       "   mean_hum_avg  min_hum_low  \n",
       "0     53.428571         13.0  \n",
       "1     53.428571         13.0  \n",
       "2     53.428571         13.0  \n",
       "3     53.428571         13.0  \n",
       "4     53.428571         13.0  \n",
       "\n",
       "[5 rows x 29 columns]"
      ]
     },
     "execution_count": 21,
     "metadata": {},
     "output_type": "execute_result"
    }
   ],
   "source": [
    "df2.head()"
   ]
  },
  {
   "cell_type": "markdown",
   "metadata": {},
   "source": [
    "**RandomForest解析では、\"year\"の影響が大きいことがわかりました。\n",
    "yearごとにデータ分布が不均衡のため、削除します。**"
   ]
  },
  {
   "cell_type": "code",
   "execution_count": 22,
   "metadata": {
    "collapsed": true
   },
   "outputs": [],
   "source": [
    "df2 = df2.drop([\"date\",\"year\"],axis=1)"
   ]
  },
  {
   "cell_type": "code",
   "execution_count": 23,
   "metadata": {
    "collapsed": true
   },
   "outputs": [],
   "source": [
    "X = df2.drop(\"px\",axis=1)\n",
    "y = df2[\"px\"]"
   ]
  },
  {
   "cell_type": "markdown",
   "metadata": {},
   "source": [
    "要因：月、日、現地気圧、海面気圧、降水量、平均気温、最高気温、最低気温、平均湿度、最低湿度、平均風速、最大風速、瞬間最大風速、日照時間、最高気圧、最低気圧、週、週番号、週間最低気圧、週間最高気圧、週間平均気圧、週間最高気温、週間最低気温、週間平均気温、週間平均湿度、週間最低湿度"
   ]
  },
  {
   "cell_type": "code",
   "execution_count": 24,
   "metadata": {},
   "outputs": [
    {
     "data": {
      "text/plain": [
       "Index(['month', 'day', 'pre_avg_loc', 'pre_avg_sea', 'rain', 'temp_avg',\n",
       "       'temp_high', 'temp_low', 'hum_avg', 'hum_low', 'wind_avg', 'wind_max',\n",
       "       'wind_max_ins', 'sun', 'pre_high', 'pre_low', 'day_of_week',\n",
       "       'week_number', 'min_pre_low', 'max_pre_high', 'mean_pre_avg_loc',\n",
       "       'max_temp_high', 'min_temp_low', 'mean_temp_avg', 'mean_hum_avg',\n",
       "       'min_hum_low'],\n",
       "      dtype='object')"
      ]
     },
     "execution_count": 24,
     "metadata": {},
     "output_type": "execute_result"
    }
   ],
   "source": [
    "X.columns"
   ]
  },
  {
   "cell_type": "markdown",
   "metadata": {},
   "source": [
    "学習、検証データ"
   ]
  },
  {
   "cell_type": "code",
   "execution_count": 25,
   "metadata": {
    "collapsed": true
   },
   "outputs": [],
   "source": [
    "from sklearn.model_selection import train_test_split\n",
    "\n",
    "X_train, X_test, y_train, y_test = train_test_split(X.values, y.values, test_size=0.2, random_state=random_state)"
   ]
  },
  {
   "cell_type": "markdown",
   "metadata": {},
   "source": [
    "xgboost + GridSearch"
   ]
  },
  {
   "cell_type": "code",
   "execution_count": 26,
   "metadata": {
    "scrolled": true
   },
   "outputs": [
    {
     "name": "stdout",
     "output_type": "stream",
     "text": [
      "Fitting 3 folds for each of 81 candidates, totalling 243 fits\n",
      "{'min_child_weight': 0.001, 'reg_alpha': 0.0, 'reg_lambda': 0.0, 'subsample_freq': 1}\n"
     ]
    },
    {
     "name": "stderr",
     "output_type": "stream",
     "text": [
      "[Parallel(n_jobs=1)]: Done 243 out of 243 | elapsed:    3.7s finished\n"
     ]
    }
   ],
   "source": [
    "import lightgbm as lgb\n",
    "from sklearn.model_selection import GridSearchCV\n",
    "\n",
    "lgb_train = lgb.Dataset(X_train, y_train)\n",
    "lgb_eval = lgb.Dataset(X_test, y_test, reference=lgb_train)\n",
    "\n",
    "model = lgb.LGBMRegressor(learning_rate=0.05)\n",
    "\n",
    "model_cv = GridSearchCV(model, {'min_child_weight':[0.001,0.01,0.0001],'subsample_freq':[1,3,5],'reg_alpha':[0.0,0.1,0.3],'reg_lambda':[0.0,0.1,0.3]}, verbose=1)\n",
    "model_cv.fit(X_train, y_train)\n",
    "print(model_cv.best_params_)\n",
    "\n",
    "\"\"\"params = {\n",
    "    'random_state': random_state,\n",
    "    'colsample_bytree': 1, \n",
    "    'min_child_samples': 10, \n",
    "    'num_leaves': 50, \n",
    "    'subsample': 0.5\n",
    "}\"\"\"\n",
    "\n",
    "model = lgb.LGBMRegressor(**model_cv.best_params_)\n",
    "model.fit(X_train, y_train)\n",
    "y_pred = model.predict(X_test)"
   ]
  },
  {
   "cell_type": "markdown",
   "metadata": {},
   "source": [
    "MSE:"
   ]
  },
  {
   "cell_type": "code",
   "execution_count": 27,
   "metadata": {},
   "outputs": [
    {
     "data": {
      "text/plain": [
       "0.30778732928712316"
      ]
     },
     "execution_count": 27,
     "metadata": {},
     "output_type": "execute_result"
    }
   ],
   "source": [
    "from sklearn.metrics import mean_squared_error\n",
    "mean_squared_error(y_test, y_pred)"
   ]
  },
  {
   "cell_type": "code",
   "execution_count": 28,
   "metadata": {
    "collapsed": true
   },
   "outputs": [],
   "source": [
    "result = pd.DataFrame({\n",
    "    \"actual\": y_test,\n",
    "    \"pred\": y_pred\n",
    "})"
   ]
  },
  {
   "cell_type": "markdown",
   "metadata": {},
   "source": [
    "真の値ごとに、予測値の平均値を計算"
   ]
  },
  {
   "cell_type": "code",
   "execution_count": 29,
   "metadata": {},
   "outputs": [
    {
     "data": {
      "text/html": [
       "<div>\n",
       "<style>\n",
       "    .dataframe thead tr:only-child th {\n",
       "        text-align: right;\n",
       "    }\n",
       "\n",
       "    .dataframe thead th {\n",
       "        text-align: left;\n",
       "    }\n",
       "\n",
       "    .dataframe tbody tr th {\n",
       "        vertical-align: top;\n",
       "    }\n",
       "</style>\n",
       "<table border=\"1\" class=\"dataframe\">\n",
       "  <thead>\n",
       "    <tr style=\"text-align: right;\">\n",
       "      <th></th>\n",
       "      <th>pred</th>\n",
       "    </tr>\n",
       "    <tr>\n",
       "      <th>actual</th>\n",
       "      <th></th>\n",
       "    </tr>\n",
       "  </thead>\n",
       "  <tbody>\n",
       "    <tr>\n",
       "      <th>0</th>\n",
       "      <td>0.299063</td>\n",
       "    </tr>\n",
       "    <tr>\n",
       "      <th>1</th>\n",
       "      <td>0.366202</td>\n",
       "    </tr>\n",
       "    <tr>\n",
       "      <th>2</th>\n",
       "      <td>0.461288</td>\n",
       "    </tr>\n",
       "  </tbody>\n",
       "</table>\n",
       "</div>"
      ],
      "text/plain": [
       "            pred\n",
       "actual          \n",
       "0       0.299063\n",
       "1       0.366202\n",
       "2       0.461288"
      ]
     },
     "execution_count": 29,
     "metadata": {},
     "output_type": "execute_result"
    }
   ],
   "source": [
    "result.groupby(['actual']).mean()"
   ]
  },
  {
   "cell_type": "code",
   "execution_count": 30,
   "metadata": {
    "collapsed": true
   },
   "outputs": [],
   "source": [
    "# result.to_csv('result.csv', index=False)"
   ]
  },
  {
   "cell_type": "code",
   "execution_count": 31,
   "metadata": {},
   "outputs": [
    {
     "data": {
      "text/plain": [
       "0    302\n",
       "1     88\n",
       "2     24\n",
       "Name: actual, dtype: int64"
      ]
     },
     "execution_count": 31,
     "metadata": {},
     "output_type": "execute_result"
    }
   ],
   "source": [
    "result[\"actual\"].value_counts()"
   ]
  },
  {
   "cell_type": "markdown",
   "metadata": {},
   "source": [
    "- 独立2標本t検定(Welch's t-test)\n",
    "    - サイズ違う⇒対応なし\n",
    "    - 分散違う⇒Welch's t-test\n",
    "    - 2標本：発病ありと発病なし"
   ]
  },
  {
   "cell_type": "code",
   "execution_count": 32,
   "metadata": {},
   "outputs": [
    {
     "data": {
      "text/plain": [
       "Ttest_indResult(statistic=-5.0587523496657232, pvalue=1.0890990635429646e-06)"
      ]
     },
     "execution_count": 32,
     "metadata": {},
     "output_type": "execute_result"
    }
   ],
   "source": [
    "from scipy import stats\n",
    "stats.ttest_ind(result[result[\"actual\"]==0][\"pred\"].values, result[(result[\"actual\"]==1) | (result[\"actual\"]==2)][\"pred\"].values, equal_var=False)"
   ]
  },
  {
   "cell_type": "markdown",
   "metadata": {},
   "source": [
    "有意差あり"
   ]
  },
  {
   "cell_type": "markdown",
   "metadata": {},
   "source": [
    "- 3標本一元配置"
   ]
  },
  {
   "cell_type": "code",
   "execution_count": 33,
   "metadata": {},
   "outputs": [
    {
     "data": {
      "text/plain": [
       "F_onewayResult(statistic=19.855653133929742, pvalue=5.8662744230810804e-09)"
      ]
     },
     "execution_count": 33,
     "metadata": {},
     "output_type": "execute_result"
    }
   ],
   "source": [
    "stats.f_oneway(result[result[\"actual\"]==0][\"pred\"].values, result[result[\"actual\"]==1][\"pred\"].values, result[result[\"actual\"]==2][\"pred\"].values)"
   ]
  },
  {
   "cell_type": "markdown",
   "metadata": {},
   "source": [
    "有意差あり"
   ]
  },
  {
   "cell_type": "markdown",
   "metadata": {},
   "source": [
    "---"
   ]
  },
  {
   "cell_type": "markdown",
   "metadata": {},
   "source": [
    "### RandomForestで各要因の重要性を確認"
   ]
  },
  {
   "cell_type": "code",
   "execution_count": 34,
   "metadata": {},
   "outputs": [
    {
     "data": {
      "text/plain": [
       "RandomForestRegressor(bootstrap=True, criterion='mse', max_depth=None,\n",
       "           max_features='auto', max_leaf_nodes=None,\n",
       "           min_impurity_split=1e-07, min_samples_leaf=1,\n",
       "           min_samples_split=2, min_weight_fraction_leaf=0.0,\n",
       "           n_estimators=10, n_jobs=1, oob_score=False, random_state=None,\n",
       "           verbose=0, warm_start=False)"
      ]
     },
     "execution_count": 34,
     "metadata": {},
     "output_type": "execute_result"
    }
   ],
   "source": [
    "from sklearn.ensemble import RandomForestRegressor\n",
    "random_forest = RandomForestRegressor()\n",
    "random_forest.fit(X_train, y_train)"
   ]
  },
  {
   "cell_type": "code",
   "execution_count": 35,
   "metadata": {},
   "outputs": [
    {
     "data": {
      "text/plain": [
       "array([ 0.00601556,  0.04575892,  0.02265403,  0.03488485,  0.05883522,\n",
       "        0.02575757,  0.0348522 ,  0.05170228,  0.05262105,  0.04657033,\n",
       "        0.04774415,  0.08368214,  0.07653657,  0.05361631,  0.03074184,\n",
       "        0.02317951,  0.01899387,  0.0168241 ,  0.04109681,  0.03642488,\n",
       "        0.02227862,  0.03763934,  0.02539145,  0.01662766,  0.04233695,\n",
       "        0.04723376])"
      ]
     },
     "execution_count": 35,
     "metadata": {},
     "output_type": "execute_result"
    }
   ],
   "source": [
    "random_forest.feature_importances_"
   ]
  },
  {
   "cell_type": "code",
   "execution_count": 36,
   "metadata": {},
   "outputs": [
    {
     "data": {
      "text/plain": [
       "([<matplotlib.axis.YTick at 0x20c69b042e8>,\n",
       "  <matplotlib.axis.YTick at 0x20c69af0b70>,\n",
       "  <matplotlib.axis.YTick at 0x20c69b04f28>,\n",
       "  <matplotlib.axis.YTick at 0x20c6b71fe80>,\n",
       "  <matplotlib.axis.YTick at 0x20c6b726978>,\n",
       "  <matplotlib.axis.YTick at 0x20c6b72c400>,\n",
       "  <matplotlib.axis.YTick at 0x20c6b72ceb8>,\n",
       "  <matplotlib.axis.YTick at 0x20c6b7349b0>,\n",
       "  <matplotlib.axis.YTick at 0x20c6b7394a8>,\n",
       "  <matplotlib.axis.YTick at 0x20c6b739f60>,\n",
       "  <matplotlib.axis.YTick at 0x20c69afe780>,\n",
       "  <matplotlib.axis.YTick at 0x20c6b73fda0>,\n",
       "  <matplotlib.axis.YTick at 0x20c6b745898>,\n",
       "  <matplotlib.axis.YTick at 0x20c6b74b390>,\n",
       "  <matplotlib.axis.YTick at 0x20c6b74be48>,\n",
       "  <matplotlib.axis.YTick at 0x20c6b753940>,\n",
       "  <matplotlib.axis.YTick at 0x20c6b756438>,\n",
       "  <matplotlib.axis.YTick at 0x20c6b756ef0>,\n",
       "  <matplotlib.axis.YTick at 0x20c6b75c9e8>,\n",
       "  <matplotlib.axis.YTick at 0x20c6b7644e0>,\n",
       "  <matplotlib.axis.YTick at 0x20c6b764f98>,\n",
       "  <matplotlib.axis.YTick at 0x20c6b76aa90>,\n",
       "  <matplotlib.axis.YTick at 0x20c6b770588>,\n",
       "  <matplotlib.axis.YTick at 0x20c6b778080>,\n",
       "  <matplotlib.axis.YTick at 0x20c6b778b38>,\n",
       "  <matplotlib.axis.YTick at 0x20c6b77e630>],\n",
       " <a list of 26 Text yticklabel objects>)"
      ]
     },
     "execution_count": 36,
     "metadata": {},
     "output_type": "execute_result"
    },
    {
     "data": {
      "image/png": "[encoded data removed]",
      "text/plain": [
       "<matplotlib.figure.Figure at 0x20c69ae6128>"
      ]
     },
     "metadata": {},
     "output_type": "display_data"
    }
   ],
   "source": [
    "plt.figure(figsize = (20 ,20))\n",
    "plt.barh(range(len(random_forest.feature_importances_)), random_forest.feature_importances_)\n",
    "plt.yticks(range(len(random_forest.feature_importances_)), X.columns.values)"
   ]
  },
  {
   "cell_type": "markdown",
   "metadata": {},
   "source": [
    "---"
   ]
  },
  {
   "cell_type": "markdown",
   "metadata": {},
   "source": [
    "## Plan2\n",
    "- 前日、前々日差を追加"
   ]
  },
  {
   "cell_type": "code",
   "execution_count": 37,
   "metadata": {
    "collapsed": true
   },
   "outputs": [],
   "source": [
    "df3 = df.groupby(\"date\", as_index=False)[\"px\"].sum()\n",
    "\n",
    "for i in df.columns[(df.columns!=\"px\") & (df.columns!=\"hos\") & (df.columns!=\"date\")]:\n",
    "    tmp = df.groupby(\"date\", as_index=False)[i].mean()\n",
    "    df3 = pd.merge(df3, tmp, how='left', on=['date']) "
   ]
  },
  {
   "cell_type": "code",
   "execution_count": 38,
   "metadata": {
    "collapsed": true
   },
   "outputs": [],
   "source": [
    "df3.loc[df3[\"px\"]>2,\"px\"] = 2"
   ]
  },
  {
   "cell_type": "code",
   "execution_count": 39,
   "metadata": {
    "collapsed": true
   },
   "outputs": [],
   "source": [
    "tmp = df3.groupby([pd.Grouper(freq='W', key='date')])['pre_low'].min()\n",
    "tmplist = []\n",
    "for i in tmp:\n",
    "    tmplist.extend([i]*7)\n",
    "df3[\"min_pre_low\"] = np.array(tmplist)[:len(df3)]\n",
    "\n",
    "tmp = df3.groupby([pd.Grouper(freq='W', key='date')])['pre_high'].max()\n",
    "tmplist = []\n",
    "for i in tmp:\n",
    "    tmplist.extend([i]*7)\n",
    "df3[\"max_pre_high\"] = np.array(tmplist)[:len(df3)]\n",
    "\n",
    "tmp = df3.groupby([pd.Grouper(freq='W', key='date')])['pre_avg_loc'].mean()\n",
    "tmplist = []\n",
    "for i in tmp:\n",
    "    tmplist.extend([i]*7)\n",
    "df3[\"mean_pre_avg_loc\"] = np.array(tmplist)[:len(df3)]\n",
    "\n",
    "tmp = df3.groupby([pd.Grouper(freq='W', key='date')])['temp_high'].max()\n",
    "tmplist = []\n",
    "for i in tmp:\n",
    "    tmplist.extend([i]*7)\n",
    "df3[\"max_temp_high\"] = np.array(tmplist)[:len(df3)]\n",
    "\n",
    "tmp = df3.groupby([pd.Grouper(freq='W', key='date')])['temp_low'].min()\n",
    "tmplist = []\n",
    "for i in tmp:\n",
    "    tmplist.extend([i]*7)\n",
    "df3[\"min_temp_low\"] = np.array(tmplist)[:len(df3)]\n",
    "\n",
    "tmp = df3.groupby([pd.Grouper(freq='W', key='date')])['temp_avg'].mean()\n",
    "tmplist = []\n",
    "for i in tmp:\n",
    "    tmplist.extend([i]*7)\n",
    "df3[\"mean_temp_avg\"] = np.array(tmplist)[:len(df3)]\n",
    "\n",
    "tmp = df3.groupby([pd.Grouper(freq='W', key='date')])['hum_avg'].mean()\n",
    "tmplist = []\n",
    "for i in tmp:\n",
    "    tmplist.extend([i]*7)\n",
    "df3[\"mean_hum_avg\"] = np.array(tmplist)[:len(df3)]\n",
    "\n",
    "tmp = df3.groupby([pd.Grouper(freq='W', key='date')])['hum_low'].min()\n",
    "tmplist = []\n",
    "for i in tmp:\n",
    "    tmplist.extend([i]*7)\n",
    "df3[\"min_hum_low\"] = np.array(tmplist)[:len(df3)]"
   ]
  },
  {
   "cell_type": "markdown",
   "metadata": {},
   "source": [
    "- 一日中最大最小差\n",
    "- 前日最大最小差\n",
    "- 前々日最大最小差\n",
    "- 三日前最大最小差"
   ]
  },
  {
   "cell_type": "code",
   "execution_count": 40,
   "metadata": {
    "collapsed": true
   },
   "outputs": [],
   "source": [
    "df3[\"diff_pre\"] = df3[\"pre_high\"]-df3[\"pre_low\"]\n",
    "df3[\"diff_temp\"] = df3[\"temp_high\"]-df3[\"temp_low\"]"
   ]
  },
  {
   "cell_type": "code",
   "execution_count": 41,
   "metadata": {
    "collapsed": true
   },
   "outputs": [],
   "source": [
    "df3[\"diff_pre_1\"] = pd.Series(np.insert(df3[\"pre_high\"].values[1:]-df3[\"pre_low\"].values[:-1], 0, np.nan, axis=0))\n",
    "df3[\"diff_pre_1_re\"] = pd.Series(np.insert(df3[\"pre_low\"].values[1:]-df3[\"pre_high\"].values[:-1], 0, np.nan, axis=0))\n",
    "df3[\"diff_pre_2\"] = pd.Series(np.insert(df3[\"pre_high\"].values[2:]-df3[\"pre_low\"].values[:-2], 0, [np.nan,np.nan], axis=0))\n",
    "df3[\"diff_pre_2_re\"] = pd.Series(np.insert(df3[\"pre_low\"].values[2:]-df3[\"pre_high\"].values[:-2], 0, [np.nan,np.nan], axis=0))\n",
    "df3[\"diff_pre_3\"] = pd.Series(np.insert(df3[\"pre_high\"].values[3:]-df3[\"pre_low\"].values[:-3], 0, [np.nan,np.nan,np.nan], axis=0))\n",
    "df3[\"diff_pre_3_re\"] = pd.Series(np.insert(df3[\"pre_low\"].values[3:]-df3[\"pre_high\"].values[:-3], 0, [np.nan,np.nan,np.nan], axis=0))\n",
    "\n",
    "df3[\"diff_temp_1\"] = pd.Series(np.insert(df3[\"temp_high\"].values[1:]-df3[\"temp_low\"].values[:-1], 0, np.nan, axis=0))\n",
    "df3[\"diff_temp_1_re\"] = pd.Series(np.insert(df3[\"temp_low\"].values[1:]-df3[\"temp_high\"].values[:-1], 0, np.nan, axis=0))\n",
    "df3[\"diff_temp_2\"] = pd.Series(np.insert(df3[\"temp_high\"].values[2:]-df3[\"temp_low\"].values[:-2], 0, [np.nan,np.nan], axis=0))\n",
    "df3[\"diff_temp_2_re\"] = pd.Series(np.insert(df3[\"temp_low\"].values[2:]-df3[\"temp_high\"].values[:-2], 0, [np.nan,np.nan], axis=0))\n",
    "df3[\"diff_temp_3\"] = pd.Series(np.insert(df3[\"temp_high\"].values[3:]-df3[\"temp_low\"].values[:-3], 0, [np.nan,np.nan,np.nan], axis=0))\n",
    "df3[\"diff_temp_3_re\"] = pd.Series(np.insert(df3[\"temp_low\"].values[3:]-df3[\"temp_high\"].values[:-3], 0, [np.nan,np.nan,np.nan], axis=0))"
   ]
  },
  {
   "cell_type": "code",
   "execution_count": 42,
   "metadata": {},
   "outputs": [
    {
     "data": {
      "text/html": [
       "<div>\n",
       "<style>\n",
       "    .dataframe thead tr:only-child th {\n",
       "        text-align: right;\n",
       "    }\n",
       "\n",
       "    .dataframe thead th {\n",
       "        text-align: left;\n",
       "    }\n",
       "\n",
       "    .dataframe tbody tr th {\n",
       "        vertical-align: top;\n",
       "    }\n",
       "</style>\n",
       "<table border=\"1\" class=\"dataframe\">\n",
       "  <thead>\n",
       "    <tr style=\"text-align: right;\">\n",
       "      <th></th>\n",
       "      <th>date</th>\n",
       "      <th>px</th>\n",
       "      <th>year</th>\n",
       "      <th>month</th>\n",
       "      <th>day</th>\n",
       "      <th>pre_avg_loc</th>\n",
       "      <th>pre_avg_sea</th>\n",
       "      <th>rain</th>\n",
       "      <th>temp_avg</th>\n",
       "      <th>temp_high</th>\n",
       "      <th>...</th>\n",
       "      <th>diff_pre_2</th>\n",
       "      <th>diff_pre_2_re</th>\n",
       "      <th>diff_pre_3</th>\n",
       "      <th>diff_pre_3_re</th>\n",
       "      <th>diff_temp_1</th>\n",
       "      <th>diff_temp_1_re</th>\n",
       "      <th>diff_temp_2</th>\n",
       "      <th>diff_temp_2_re</th>\n",
       "      <th>diff_temp_3</th>\n",
       "      <th>diff_temp_3_re</th>\n",
       "    </tr>\n",
       "  </thead>\n",
       "  <tbody>\n",
       "    <tr>\n",
       "      <th>0</th>\n",
       "      <td>2011-04-04</td>\n",
       "      <td>0</td>\n",
       "      <td>2011</td>\n",
       "      <td>4</td>\n",
       "      <td>4</td>\n",
       "      <td>1016.4</td>\n",
       "      <td>1020.5</td>\n",
       "      <td>0.0</td>\n",
       "      <td>10.3</td>\n",
       "      <td>17.1</td>\n",
       "      <td>...</td>\n",
       "      <td>NaN</td>\n",
       "      <td>NaN</td>\n",
       "      <td>NaN</td>\n",
       "      <td>NaN</td>\n",
       "      <td>NaN</td>\n",
       "      <td>NaN</td>\n",
       "      <td>NaN</td>\n",
       "      <td>NaN</td>\n",
       "      <td>NaN</td>\n",
       "      <td>NaN</td>\n",
       "    </tr>\n",
       "    <tr>\n",
       "      <th>1</th>\n",
       "      <td>2011-04-05</td>\n",
       "      <td>0</td>\n",
       "      <td>2011</td>\n",
       "      <td>4</td>\n",
       "      <td>5</td>\n",
       "      <td>1019.8</td>\n",
       "      <td>1023.8</td>\n",
       "      <td>0.0</td>\n",
       "      <td>12.1</td>\n",
       "      <td>21.0</td>\n",
       "      <td>...</td>\n",
       "      <td>NaN</td>\n",
       "      <td>NaN</td>\n",
       "      <td>NaN</td>\n",
       "      <td>NaN</td>\n",
       "      <td>15.7</td>\n",
       "      <td>-12.6</td>\n",
       "      <td>NaN</td>\n",
       "      <td>NaN</td>\n",
       "      <td>NaN</td>\n",
       "      <td>NaN</td>\n",
       "    </tr>\n",
       "    <tr>\n",
       "      <th>2</th>\n",
       "      <td>2011-04-06</td>\n",
       "      <td>0</td>\n",
       "      <td>2011</td>\n",
       "      <td>4</td>\n",
       "      <td>6</td>\n",
       "      <td>1021.2</td>\n",
       "      <td>1025.2</td>\n",
       "      <td>0.0</td>\n",
       "      <td>14.3</td>\n",
       "      <td>22.1</td>\n",
       "      <td>...</td>\n",
       "      <td>8.6</td>\n",
       "      <td>-0.4</td>\n",
       "      <td>NaN</td>\n",
       "      <td>NaN</td>\n",
       "      <td>17.6</td>\n",
       "      <td>-15.4</td>\n",
       "      <td>16.8</td>\n",
       "      <td>-11.5</td>\n",
       "      <td>NaN</td>\n",
       "      <td>NaN</td>\n",
       "    </tr>\n",
       "    <tr>\n",
       "      <th>3</th>\n",
       "      <td>2011-04-07</td>\n",
       "      <td>1</td>\n",
       "      <td>2011</td>\n",
       "      <td>4</td>\n",
       "      <td>7</td>\n",
       "      <td>1018.4</td>\n",
       "      <td>1022.3</td>\n",
       "      <td>0.0</td>\n",
       "      <td>17.3</td>\n",
       "      <td>21.9</td>\n",
       "      <td>...</td>\n",
       "      <td>2.7</td>\n",
       "      <td>-5.4</td>\n",
       "      <td>5.6</td>\n",
       "      <td>-3.0</td>\n",
       "      <td>16.3</td>\n",
       "      <td>-9.7</td>\n",
       "      <td>17.4</td>\n",
       "      <td>-8.6</td>\n",
       "      <td>16.6</td>\n",
       "      <td>-4.7</td>\n",
       "    </tr>\n",
       "    <tr>\n",
       "      <th>4</th>\n",
       "      <td>2011-04-08</td>\n",
       "      <td>0</td>\n",
       "      <td>2011</td>\n",
       "      <td>4</td>\n",
       "      <td>8</td>\n",
       "      <td>1014.0</td>\n",
       "      <td>1018.0</td>\n",
       "      <td>24.0</td>\n",
       "      <td>14.9</td>\n",
       "      <td>16.4</td>\n",
       "      <td>...</td>\n",
       "      <td>-2.8</td>\n",
       "      <td>-11.2</td>\n",
       "      <td>-1.9</td>\n",
       "      <td>-9.2</td>\n",
       "      <td>4.0</td>\n",
       "      <td>-8.5</td>\n",
       "      <td>10.8</td>\n",
       "      <td>-8.7</td>\n",
       "      <td>11.9</td>\n",
       "      <td>-7.6</td>\n",
       "    </tr>\n",
       "  </tbody>\n",
       "</table>\n",
       "<p>5 rows × 43 columns</p>\n",
       "</div>"
      ],
      "text/plain": [
       "        date  px  year  month  day  pre_avg_loc  pre_avg_sea  rain  temp_avg  \\\n",
       "0 2011-04-04   0  2011      4    4       1016.4       1020.5   0.0      10.3   \n",
       "1 2011-04-05   0  2011      4    5       1019.8       1023.8   0.0      12.1   \n",
       "2 2011-04-06   0  2011      4    6       1021.2       1025.2   0.0      14.3   \n",
       "3 2011-04-07   1  2011      4    7       1018.4       1022.3   0.0      17.3   \n",
       "4 2011-04-08   0  2011      4    8       1014.0       1018.0  24.0      14.9   \n",
       "\n",
       "   temp_high       ...        diff_pre_2  diff_pre_2_re  diff_pre_3  \\\n",
       "0       17.1       ...               NaN            NaN         NaN   \n",
       "1       21.0       ...               NaN            NaN         NaN   \n",
       "2       22.1       ...               8.6           -0.4         NaN   \n",
       "3       21.9       ...               2.7           -5.4         5.6   \n",
       "4       16.4       ...              -2.8          -11.2        -1.9   \n",
       "\n",
       "   diff_pre_3_re  diff_temp_1  diff_temp_1_re  diff_temp_2  diff_temp_2_re  \\\n",
       "0            NaN          NaN             NaN          NaN             NaN   \n",
       "1            NaN         15.7           -12.6          NaN             NaN   \n",
       "2            NaN         17.6           -15.4         16.8           -11.5   \n",
       "3           -3.0         16.3            -9.7         17.4            -8.6   \n",
       "4           -9.2          4.0            -8.5         10.8            -8.7   \n",
       "\n",
       "   diff_temp_3  diff_temp_3_re  \n",
       "0          NaN             NaN  \n",
       "1          NaN             NaN  \n",
       "2          NaN             NaN  \n",
       "3         16.6            -4.7  \n",
       "4         11.9            -7.6  \n",
       "\n",
       "[5 rows x 43 columns]"
      ]
     },
     "execution_count": 42,
     "metadata": {},
     "output_type": "execute_result"
    }
   ],
   "source": [
    "df3.head()"
   ]
  },
  {
   "cell_type": "markdown",
   "metadata": {},
   "source": [
    "Drop NAN"
   ]
  },
  {
   "cell_type": "code",
   "execution_count": 43,
   "metadata": {
    "collapsed": true
   },
   "outputs": [],
   "source": [
    "df3 = df3.dropna()"
   ]
  },
  {
   "cell_type": "code",
   "execution_count": 44,
   "metadata": {
    "collapsed": true
   },
   "outputs": [],
   "source": [
    "df3 = df3.drop([\"date\",\"year\"],axis=1)"
   ]
  },
  {
   "cell_type": "code",
   "execution_count": 45,
   "metadata": {
    "collapsed": true
   },
   "outputs": [],
   "source": [
    "X = df3.drop(\"px\",axis=1)\n",
    "y = df3[\"px\"]"
   ]
  },
  {
   "cell_type": "code",
   "execution_count": 46,
   "metadata": {},
   "outputs": [
    {
     "data": {
      "text/plain": [
       "Index(['month', 'day', 'pre_avg_loc', 'pre_avg_sea', 'rain', 'temp_avg',\n",
       "       'temp_high', 'temp_low', 'hum_avg', 'hum_low', 'wind_avg', 'wind_max',\n",
       "       'wind_max_ins', 'sun', 'pre_high', 'pre_low', 'day_of_week',\n",
       "       'week_number', 'min_pre_low', 'max_pre_high', 'mean_pre_avg_loc',\n",
       "       'max_temp_high', 'min_temp_low', 'mean_temp_avg', 'mean_hum_avg',\n",
       "       'min_hum_low', 'diff_pre', 'diff_temp', 'diff_pre_1', 'diff_pre_1_re',\n",
       "       'diff_pre_2', 'diff_pre_2_re', 'diff_pre_3', 'diff_pre_3_re',\n",
       "       'diff_temp_1', 'diff_temp_1_re', 'diff_temp_2', 'diff_temp_2_re',\n",
       "       'diff_temp_3', 'diff_temp_3_re'],\n",
       "      dtype='object')"
      ]
     },
     "execution_count": 46,
     "metadata": {},
     "output_type": "execute_result"
    }
   ],
   "source": [
    "X.columns"
   ]
  },
  {
   "cell_type": "code",
   "execution_count": 47,
   "metadata": {
    "collapsed": true
   },
   "outputs": [],
   "source": [
    "from sklearn.model_selection import train_test_split\n",
    "\n",
    "X_train, X_test, y_train, y_test = train_test_split(X.values, y.values, test_size=0.2, random_state=random_state)"
   ]
  },
  {
   "cell_type": "markdown",
   "metadata": {},
   "source": [
    "modeling"
   ]
  },
  {
   "cell_type": "code",
   "execution_count": 48,
   "metadata": {},
   "outputs": [
    {
     "name": "stdout",
     "output_type": "stream",
     "text": [
      "Fitting 3 folds for each of 81 candidates, totalling 243 fits\n",
      "{'min_child_weight': 0.001, 'reg_alpha': 0.1, 'reg_lambda': 0.3, 'subsample_freq': 1}\n"
     ]
    },
    {
     "name": "stderr",
     "output_type": "stream",
     "text": [
      "[Parallel(n_jobs=1)]: Done 243 out of 243 | elapsed:    5.8s finished\n"
     ]
    }
   ],
   "source": [
    "import lightgbm as lgb\n",
    "from sklearn.model_selection import GridSearchCV\n",
    "\n",
    "lgb_train = lgb.Dataset(X_train, y_train)\n",
    "lgb_eval = lgb.Dataset(X_test, y_test, reference=lgb_train)\n",
    "\n",
    "model = lgb.LGBMRegressor(learning_rate=0.05)\n",
    "\n",
    "model_cv = GridSearchCV(model, {'min_child_weight':[0.001,0.01,0.0001],'subsample_freq':[1,3,5],'reg_alpha':[0.0,0.1,0.3],'reg_lambda':[0.0,0.1,0.3]}, verbose=1)\n",
    "model_cv.fit(X_train, y_train)\n",
    "print(model_cv.best_params_)\n",
    "\n",
    "\"\"\"params = {\n",
    "    'random_state': random_state,\n",
    "    'colsample_bytree': 1, \n",
    "    'min_child_samples': 10, \n",
    "    'num_leaves': 50, \n",
    "    'subsample': 0.5\n",
    "}\"\"\"\n",
    "\n",
    "model = lgb.LGBMRegressor(**model_cv.best_params_)\n",
    "model.fit(X_train, y_train)\n",
    "y_pred = model.predict(X_test)"
   ]
  },
  {
   "cell_type": "code",
   "execution_count": 49,
   "metadata": {},
   "outputs": [
    {
     "data": {
      "text/plain": [
       "0.29332672456557041"
      ]
     },
     "execution_count": 49,
     "metadata": {},
     "output_type": "execute_result"
    }
   ],
   "source": [
    "from sklearn.metrics import mean_squared_error\n",
    "mean_squared_error(y_test, y_pred)"
   ]
  },
  {
   "cell_type": "code",
   "execution_count": 50,
   "metadata": {
    "collapsed": true
   },
   "outputs": [],
   "source": [
    "result = pd.DataFrame({\n",
    "    \"actual\": y_test,\n",
    "    \"pred\": y_pred\n",
    "})"
   ]
  },
  {
   "cell_type": "code",
   "execution_count": 51,
   "metadata": {
    "scrolled": true
   },
   "outputs": [
    {
     "data": {
      "text/html": [
       "<div>\n",
       "<style>\n",
       "    .dataframe thead tr:only-child th {\n",
       "        text-align: right;\n",
       "    }\n",
       "\n",
       "    .dataframe thead th {\n",
       "        text-align: left;\n",
       "    }\n",
       "\n",
       "    .dataframe tbody tr th {\n",
       "        vertical-align: top;\n",
       "    }\n",
       "</style>\n",
       "<table border=\"1\" class=\"dataframe\">\n",
       "  <thead>\n",
       "    <tr style=\"text-align: right;\">\n",
       "      <th></th>\n",
       "      <th>pred</th>\n",
       "    </tr>\n",
       "    <tr>\n",
       "      <th>actual</th>\n",
       "      <th></th>\n",
       "    </tr>\n",
       "  </thead>\n",
       "  <tbody>\n",
       "    <tr>\n",
       "      <th>0</th>\n",
       "      <td>0.308215</td>\n",
       "    </tr>\n",
       "    <tr>\n",
       "      <th>1</th>\n",
       "      <td>0.374263</td>\n",
       "    </tr>\n",
       "    <tr>\n",
       "      <th>2</th>\n",
       "      <td>0.429413</td>\n",
       "    </tr>\n",
       "  </tbody>\n",
       "</table>\n",
       "</div>"
      ],
      "text/plain": [
       "            pred\n",
       "actual          \n",
       "0       0.308215\n",
       "1       0.374263\n",
       "2       0.429413"
      ]
     },
     "execution_count": 51,
     "metadata": {},
     "output_type": "execute_result"
    }
   ],
   "source": [
    "result.groupby(['actual']).mean()"
   ]
  },
  {
   "cell_type": "code",
   "execution_count": 52,
   "metadata": {
    "collapsed": true
   },
   "outputs": [],
   "source": [
    "# result.to_csv('result2.csv', index=False)"
   ]
  },
  {
   "cell_type": "code",
   "execution_count": 53,
   "metadata": {},
   "outputs": [
    {
     "data": {
      "text/plain": [
       "Ttest_indResult(statistic=-4.8370167798012789, pvalue=3.1360233770845569e-06)"
      ]
     },
     "execution_count": 53,
     "metadata": {},
     "output_type": "execute_result"
    }
   ],
   "source": [
    "from scipy import stats\n",
    "stats.ttest_ind(result[result[\"actual\"]==0][\"pred\"].values, result[(result[\"actual\"]==1) | (result[\"actual\"]==2)][\"pred\"].values, equal_var=False)"
   ]
  },
  {
   "cell_type": "code",
   "execution_count": 54,
   "metadata": {},
   "outputs": [
    {
     "data": {
      "text/plain": [
       "F_onewayResult(statistic=16.144878322387157, pvalue=1.7814759389381068e-07)"
      ]
     },
     "execution_count": 54,
     "metadata": {},
     "output_type": "execute_result"
    }
   ],
   "source": [
    "stats.f_oneway(result[result[\"actual\"]==0][\"pred\"].values, result[result[\"actual\"]==1][\"pred\"].values, result[result[\"actual\"]==2][\"pred\"].values)"
   ]
  },
  {
   "cell_type": "markdown",
   "metadata": {},
   "source": [
    "RandomForest"
   ]
  },
  {
   "cell_type": "code",
   "execution_count": 55,
   "metadata": {},
   "outputs": [
    {
     "data": {
      "text/plain": [
       "RandomForestRegressor(bootstrap=True, criterion='mse', max_depth=None,\n",
       "           max_features='auto', max_leaf_nodes=None,\n",
       "           min_impurity_split=1e-07, min_samples_leaf=1,\n",
       "           min_samples_split=2, min_weight_fraction_leaf=0.0,\n",
       "           n_estimators=10, n_jobs=1, oob_score=False, random_state=None,\n",
       "           verbose=0, warm_start=False)"
      ]
     },
     "execution_count": 55,
     "metadata": {},
     "output_type": "execute_result"
    }
   ],
   "source": [
    "from sklearn.ensemble import RandomForestRegressor\n",
    "random_forest = RandomForestRegressor()\n",
    "random_forest.fit(X_train, y_train)"
   ]
  },
  {
   "cell_type": "code",
   "execution_count": 56,
   "metadata": {},
   "outputs": [
    {
     "data": {
      "text/plain": [
       "array([ 0.00517297,  0.02526764,  0.01524404,  0.01925296,  0.03538172,\n",
       "        0.01682032,  0.01167681,  0.01829437,  0.03840368,  0.02422908,\n",
       "        0.02971329,  0.04746306,  0.03818446,  0.03594807,  0.01095018,\n",
       "        0.02422713,  0.01045969,  0.01680099,  0.03067826,  0.03113711,\n",
       "        0.00873591,  0.0212017 ,  0.0086089 ,  0.00925535,  0.02034466,\n",
       "        0.04087794,  0.03511069,  0.01983879,  0.03134877,  0.03332171,\n",
       "        0.02476662,  0.02104049,  0.03913504,  0.02434066,  0.02767188,\n",
       "        0.03745349,  0.02902031,  0.02555927,  0.03175902,  0.02530297])"
      ]
     },
     "execution_count": 56,
     "metadata": {},
     "output_type": "execute_result"
    }
   ],
   "source": [
    "random_forest.feature_importances_"
   ]
  },
  {
   "cell_type": "code",
   "execution_count": 57,
   "metadata": {},
   "outputs": [
    {
     "data": {
      "text/plain": [
       "([<matplotlib.axis.YTick at 0x20c6b7ba978>,\n",
       "  <matplotlib.axis.YTick at 0x20c6b74b7f0>,\n",
       "  <matplotlib.axis.YTick at 0x20c6b756cc0>,\n",
       "  <matplotlib.axis.YTick at 0x20c6b8a6128>,\n",
       "  <matplotlib.axis.YTick at 0x20c6b8a6be0>,\n",
       "  <matplotlib.axis.YTick at 0x20c6b8ab6d8>,\n",
       "  <matplotlib.axis.YTick at 0x20c6bfdc2e8>,\n",
       "  <matplotlib.axis.YTick at 0x20c6b8b2c18>,\n",
       "  <matplotlib.axis.YTick at 0x20c6b8b9710>,\n",
       "  <matplotlib.axis.YTick at 0x20c6b8bb208>,\n",
       "  <matplotlib.axis.YTick at 0x20c6b8bbcc0>,\n",
       "  <matplotlib.axis.YTick at 0x20c6b8c37b8>,\n",
       "  <matplotlib.axis.YTick at 0x20c6b8c92b0>,\n",
       "  <matplotlib.axis.YTick at 0x20c6b8c9d68>,\n",
       "  <matplotlib.axis.YTick at 0x20c6b8d0860>,\n",
       "  <matplotlib.axis.YTick at 0x20c6b8d6358>,\n",
       "  <matplotlib.axis.YTick at 0x20c6b8d6e10>,\n",
       "  <matplotlib.axis.YTick at 0x20c6b8dc908>,\n",
       "  <matplotlib.axis.YTick at 0x20c6b8e2400>,\n",
       "  <matplotlib.axis.YTick at 0x20c6b8e2eb8>,\n",
       "  <matplotlib.axis.YTick at 0x20c6b8e89b0>,\n",
       "  <matplotlib.axis.YTick at 0x20c6b8ed4a8>,\n",
       "  <matplotlib.axis.YTick at 0x20c6b8edf60>,\n",
       "  <matplotlib.axis.YTick at 0x20c6b8f3a58>,\n",
       "  <matplotlib.axis.YTick at 0x20c6b8fa550>,\n",
       "  <matplotlib.axis.YTick at 0x20c6b900048>,\n",
       "  <matplotlib.axis.YTick at 0x20c6b900b00>,\n",
       "  <matplotlib.axis.YTick at 0x20c6b9065f8>,\n",
       "  <matplotlib.axis.YTick at 0x20c6b90e0f0>,\n",
       "  <matplotlib.axis.YTick at 0x20c6b90eba8>,\n",
       "  <matplotlib.axis.YTick at 0x20c6b9146a0>,\n",
       "  <matplotlib.axis.YTick at 0x20c6b91b198>,\n",
       "  <matplotlib.axis.YTick at 0x20c6b91bc50>,\n",
       "  <matplotlib.axis.YTick at 0x20c6b920748>,\n",
       "  <matplotlib.axis.YTick at 0x20c6b926240>,\n",
       "  <matplotlib.axis.YTick at 0x20c6b926cf8>,\n",
       "  <matplotlib.axis.YTick at 0x20c6b92b7f0>,\n",
       "  <matplotlib.axis.YTick at 0x20c6b9332e8>,\n",
       "  <matplotlib.axis.YTick at 0x20c6b933da0>,\n",
       "  <matplotlib.axis.YTick at 0x20c6b939898>],\n",
       " <a list of 40 Text yticklabel objects>)"
      ]
     },
     "execution_count": 57,
     "metadata": {},
     "output_type": "execute_result"
    },
    {
     "data": {
      "image/png": "[encoded data removed]",
      "text/plain": [
       "<matplotlib.figure.Figure at 0x20c6bfd8940>"
      ]
     },
     "metadata": {},
     "output_type": "display_data"
    }
   ],
   "source": [
    "plt.figure(figsize = (20 ,18))\n",
    "plt.barh(range(len(random_forest.feature_importances_)), random_forest.feature_importances_)\n",
    "plt.yticks(range(len(random_forest.feature_importances_)), X.columns.values)"
   ]
  },
  {
   "cell_type": "markdown",
   "metadata": {},
   "source": [
    "---"
   ]
  },
  {
   "cell_type": "markdown",
   "metadata": {},
   "source": [
    "## Plan3\n",
    "- 気圧要因のみ"
   ]
  },
  {
   "cell_type": "code",
   "execution_count": 58,
   "metadata": {},
   "outputs": [
    {
     "data": {
      "text/plain": [
       "Index(['px', 'month', 'day', 'pre_avg_loc', 'pre_avg_sea', 'rain', 'temp_avg',\n",
       "       'temp_high', 'temp_low', 'hum_avg', 'hum_low', 'wind_avg', 'wind_max',\n",
       "       'wind_max_ins', 'sun', 'pre_high', 'pre_low', 'day_of_week',\n",
       "       'week_number', 'min_pre_low', 'max_pre_high', 'mean_pre_avg_loc',\n",
       "       'max_temp_high', 'min_temp_low', 'mean_temp_avg', 'mean_hum_avg',\n",
       "       'min_hum_low', 'diff_pre', 'diff_temp', 'diff_pre_1', 'diff_pre_1_re',\n",
       "       'diff_pre_2', 'diff_pre_2_re', 'diff_pre_3', 'diff_pre_3_re',\n",
       "       'diff_temp_1', 'diff_temp_1_re', 'diff_temp_2', 'diff_temp_2_re',\n",
       "       'diff_temp_3', 'diff_temp_3_re'],\n",
       "      dtype='object')"
      ]
     },
     "execution_count": 58,
     "metadata": {},
     "output_type": "execute_result"
    }
   ],
   "source": [
    "df3.columns"
   ]
  },
  {
   "cell_type": "code",
   "execution_count": 59,
   "metadata": {
    "collapsed": true
   },
   "outputs": [],
   "source": [
    "df4 = df3.drop(['month', 'day', 'rain', 'temp_avg',\n",
    "       'temp_high', 'temp_low', 'hum_avg', 'hum_low', 'wind_avg', 'wind_max',\n",
    "       'wind_max_ins', 'sun', 'day_of_week',\n",
    "       'week_number', 'max_temp_high', 'min_temp_low', 'mean_temp_avg', 'mean_hum_avg',\n",
    "       'min_hum_low', 'diff_temp',\n",
    "       'diff_temp_1', 'diff_temp_1_re', 'diff_temp_2', 'diff_temp_2_re',\n",
    "       'diff_temp_3', 'diff_temp_3_re'],axis=1)"
   ]
  },
  {
   "cell_type": "code",
   "execution_count": 60,
   "metadata": {},
   "outputs": [
    {
     "data": {
      "text/plain": [
       "Index(['px', 'pre_avg_loc', 'pre_avg_sea', 'pre_high', 'pre_low',\n",
       "       'min_pre_low', 'max_pre_high', 'mean_pre_avg_loc', 'diff_pre',\n",
       "       'diff_pre_1', 'diff_pre_1_re', 'diff_pre_2', 'diff_pre_2_re',\n",
       "       'diff_pre_3', 'diff_pre_3_re'],\n",
       "      dtype='object')"
      ]
     },
     "execution_count": 60,
     "metadata": {},
     "output_type": "execute_result"
    }
   ],
   "source": [
    "df4.columns"
   ]
  },
  {
   "cell_type": "code",
   "execution_count": 61,
   "metadata": {
    "collapsed": true
   },
   "outputs": [],
   "source": [
    "X = df4.drop(\"px\",axis=1)\n",
    "y = df4[\"px\"]"
   ]
  },
  {
   "cell_type": "code",
   "execution_count": 62,
   "metadata": {
    "collapsed": true
   },
   "outputs": [],
   "source": [
    "from sklearn.model_selection import train_test_split\n",
    "\n",
    "X_train, X_test, y_train, y_test = train_test_split(X.values, y.values, test_size=0.2, random_state=random_state)"
   ]
  },
  {
   "cell_type": "code",
   "execution_count": 63,
   "metadata": {},
   "outputs": [
    {
     "name": "stdout",
     "output_type": "stream",
     "text": [
      "Fitting 3 folds for each of 81 candidates, totalling 243 fits\n",
      "{'min_child_weight': 0.001, 'reg_alpha': 0.0, 'reg_lambda': 0.3, 'subsample_freq': 1}\n"
     ]
    },
    {
     "name": "stderr",
     "output_type": "stream",
     "text": [
      "[Parallel(n_jobs=1)]: Done 243 out of 243 | elapsed:    3.1s finished\n"
     ]
    }
   ],
   "source": [
    "import lightgbm as lgb\n",
    "from sklearn.model_selection import GridSearchCV\n",
    "\n",
    "lgb_train = lgb.Dataset(X_train, y_train)\n",
    "lgb_eval = lgb.Dataset(X_test, y_test, reference=lgb_train)\n",
    "\n",
    "model = lgb.LGBMRegressor(learning_rate=0.05)\n",
    "\n",
    "model_cv = GridSearchCV(model, {'min_child_weight':[0.001,0.01,0.0001],'subsample_freq':[1,3,5],'reg_alpha':[0.0,0.1,0.3],'reg_lambda':[0.0,0.1,0.3]}, verbose=1)\n",
    "model_cv.fit(X_train, y_train)\n",
    "print(model_cv.best_params_)\n",
    "\n",
    "\"\"\"params = {\n",
    "    'random_state': random_state,\n",
    "    'colsample_bytree': 1, \n",
    "    'min_child_samples': 10, \n",
    "    'num_leaves': 50, \n",
    "    'subsample': 0.5\n",
    "}\"\"\"\n",
    "\n",
    "model = lgb.LGBMRegressor(**model_cv.best_params_)\n",
    "model.fit(X_train, y_train)\n",
    "y_pred = model.predict(X_test)"
   ]
  },
  {
   "cell_type": "code",
   "execution_count": 64,
   "metadata": {},
   "outputs": [
    {
     "data": {
      "text/plain": [
       "0.3129328547035321"
      ]
     },
     "execution_count": 64,
     "metadata": {},
     "output_type": "execute_result"
    }
   ],
   "source": [
    "from sklearn.metrics import mean_squared_error\n",
    "mean_squared_error(y_test, y_pred)"
   ]
  },
  {
   "cell_type": "code",
   "execution_count": 65,
   "metadata": {
    "collapsed": true
   },
   "outputs": [],
   "source": [
    "result = pd.DataFrame({\n",
    "    \"actual\": y_test,\n",
    "    \"pred\": y_pred\n",
    "})"
   ]
  },
  {
   "cell_type": "code",
   "execution_count": 66,
   "metadata": {},
   "outputs": [
    {
     "data": {
      "text/html": [
       "<div>\n",
       "<style>\n",
       "    .dataframe thead tr:only-child th {\n",
       "        text-align: right;\n",
       "    }\n",
       "\n",
       "    .dataframe thead th {\n",
       "        text-align: left;\n",
       "    }\n",
       "\n",
       "    .dataframe tbody tr th {\n",
       "        vertical-align: top;\n",
       "    }\n",
       "</style>\n",
       "<table border=\"1\" class=\"dataframe\">\n",
       "  <thead>\n",
       "    <tr style=\"text-align: right;\">\n",
       "      <th></th>\n",
       "      <th>pred</th>\n",
       "    </tr>\n",
       "    <tr>\n",
       "      <th>actual</th>\n",
       "      <th></th>\n",
       "    </tr>\n",
       "  </thead>\n",
       "  <tbody>\n",
       "    <tr>\n",
       "      <th>0</th>\n",
       "      <td>0.321919</td>\n",
       "    </tr>\n",
       "    <tr>\n",
       "      <th>1</th>\n",
       "      <td>0.341134</td>\n",
       "    </tr>\n",
       "    <tr>\n",
       "      <th>2</th>\n",
       "      <td>0.378490</td>\n",
       "    </tr>\n",
       "  </tbody>\n",
       "</table>\n",
       "</div>"
      ],
      "text/plain": [
       "            pred\n",
       "actual          \n",
       "0       0.321919\n",
       "1       0.341134\n",
       "2       0.378490"
      ]
     },
     "execution_count": 66,
     "metadata": {},
     "output_type": "execute_result"
    }
   ],
   "source": [
    "result.groupby(['actual']).mean()"
   ]
  },
  {
   "cell_type": "code",
   "execution_count": 67,
   "metadata": {},
   "outputs": [
    {
     "data": {
      "text/plain": [
       "Ttest_indResult(statistic=-2.1663669838124076, pvalue=0.031534147746899881)"
      ]
     },
     "execution_count": 67,
     "metadata": {},
     "output_type": "execute_result"
    }
   ],
   "source": [
    "from scipy import stats\n",
    "stats.ttest_ind(result[result[\"actual\"]==0][\"pred\"].values, result[(result[\"actual\"]==1) | (result[\"actual\"]==2)][\"pred\"].values, equal_var=False)"
   ]
  },
  {
   "cell_type": "code",
   "execution_count": 68,
   "metadata": {},
   "outputs": [
    {
     "data": {
      "text/plain": [
       "F_onewayResult(statistic=3.2682368576483398, pvalue=0.039067734624898647)"
      ]
     },
     "execution_count": 68,
     "metadata": {},
     "output_type": "execute_result"
    }
   ],
   "source": [
    "stats.f_oneway(result[result[\"actual\"]==0][\"pred\"].values, result[result[\"actual\"]==1][\"pred\"].values, result[result[\"actual\"]==2][\"pred\"].values)"
   ]
  },
  {
   "cell_type": "markdown",
   "metadata": {},
   "source": [
    "---"
   ]
  },
  {
   "cell_type": "markdown",
   "metadata": {},
   "source": [
    "- 気圧、気温要因のみ"
   ]
  },
  {
   "cell_type": "code",
   "execution_count": 69,
   "metadata": {
    "collapsed": true
   },
   "outputs": [],
   "source": [
    "df5 = df3.loc[:, ['px', 'pre_avg_loc', 'pre_avg_sea', 'temp_avg',\n",
    "       'temp_high', 'temp_low', 'pre_high', 'pre_low', 'min_pre_low', 'max_pre_high', 'mean_pre_avg_loc',\n",
    "       'max_temp_high', 'min_temp_low', 'mean_temp_avg', 'mean_hum_avg',\n",
    "       'min_hum_low', 'diff_pre', 'diff_temp', 'diff_pre_1', 'diff_pre_1_re',\n",
    "       'diff_pre_2', 'diff_pre_2_re', 'diff_pre_3', 'diff_pre_3_re',\n",
    "       'diff_temp_1', 'diff_temp_1_re', 'diff_temp_2', 'diff_temp_2_re',\n",
    "       'diff_temp_3', 'diff_temp_3_re']]"
   ]
  },
  {
   "cell_type": "code",
   "execution_count": 70,
   "metadata": {},
   "outputs": [
    {
     "data": {
      "text/plain": [
       "Index(['px', 'pre_avg_loc', 'pre_avg_sea', 'temp_avg', 'temp_high', 'temp_low',\n",
       "       'pre_high', 'pre_low', 'min_pre_low', 'max_pre_high',\n",
       "       'mean_pre_avg_loc', 'max_temp_high', 'min_temp_low', 'mean_temp_avg',\n",
       "       'mean_hum_avg', 'min_hum_low', 'diff_pre', 'diff_temp', 'diff_pre_1',\n",
       "       'diff_pre_1_re', 'diff_pre_2', 'diff_pre_2_re', 'diff_pre_3',\n",
       "       'diff_pre_3_re', 'diff_temp_1', 'diff_temp_1_re', 'diff_temp_2',\n",
       "       'diff_temp_2_re', 'diff_temp_3', 'diff_temp_3_re'],\n",
       "      dtype='object')"
      ]
     },
     "execution_count": 70,
     "metadata": {},
     "output_type": "execute_result"
    }
   ],
   "source": [
    "df5.columns"
   ]
  },
  {
   "cell_type": "code",
   "execution_count": 71,
   "metadata": {
    "collapsed": true
   },
   "outputs": [],
   "source": [
    "X = df5.drop(\"px\",axis=1)\n",
    "y = df5[\"px\"]"
   ]
  },
  {
   "cell_type": "code",
   "execution_count": 72,
   "metadata": {
    "collapsed": true
   },
   "outputs": [],
   "source": [
    "from sklearn.model_selection import train_test_split\n",
    "\n",
    "X_train, X_test, y_train, y_test = train_test_split(X.values, y.values, test_size=0.2, random_state=random_state)"
   ]
  },
  {
   "cell_type": "code",
   "execution_count": 73,
   "metadata": {},
   "outputs": [
    {
     "name": "stdout",
     "output_type": "stream",
     "text": [
      "Fitting 3 folds for each of 81 candidates, totalling 243 fits\n",
      "{'min_child_weight': 0.001, 'reg_alpha': 0.3, 'reg_lambda': 0.3, 'subsample_freq': 1}\n"
     ]
    },
    {
     "name": "stderr",
     "output_type": "stream",
     "text": [
      "[Parallel(n_jobs=1)]: Done 243 out of 243 | elapsed:    4.0s finished\n"
     ]
    }
   ],
   "source": [
    "import lightgbm as lgb\n",
    "from sklearn.model_selection import GridSearchCV\n",
    "\n",
    "lgb_train = lgb.Dataset(X_train, y_train)\n",
    "lgb_eval = lgb.Dataset(X_test, y_test, reference=lgb_train)\n",
    "\n",
    "model = lgb.LGBMRegressor(learning_rate=0.05)\n",
    "\n",
    "model_cv = GridSearchCV(model, {'min_child_weight':[0.001,0.01,0.0001],'subsample_freq':[1,3,5],'reg_alpha':[0.0,0.1,0.3],'reg_lambda':[0.0,0.1,0.3]}, verbose=1)\n",
    "model_cv.fit(X_train, y_train)\n",
    "print(model_cv.best_params_)\n",
    "\n",
    "\"\"\"params = {\n",
    "    'random_state': random_state,\n",
    "    'colsample_bytree': 1, \n",
    "    'min_child_samples': 10, \n",
    "    'num_leaves': 50, \n",
    "    'subsample': 0.5\n",
    "}\"\"\"\n",
    "\n",
    "model = lgb.LGBMRegressor(**model_cv.best_params_)\n",
    "model.fit(X_train, y_train)\n",
    "y_pred = model.predict(X_test)"
   ]
  },
  {
   "cell_type": "code",
   "execution_count": 74,
   "metadata": {},
   "outputs": [
    {
     "data": {
      "text/plain": [
       "0.30362207442678363"
      ]
     },
     "execution_count": 74,
     "metadata": {},
     "output_type": "execute_result"
    }
   ],
   "source": [
    "from sklearn.metrics import mean_squared_error\n",
    "mean_squared_error(y_test, y_pred)"
   ]
  },
  {
   "cell_type": "code",
   "execution_count": 75,
   "metadata": {
    "collapsed": true
   },
   "outputs": [],
   "source": [
    "result = pd.DataFrame({\n",
    "    \"actual\": y_test,\n",
    "    \"pred\": y_pred\n",
    "})"
   ]
  },
  {
   "cell_type": "code",
   "execution_count": 76,
   "metadata": {},
   "outputs": [
    {
     "data": {
      "text/html": [
       "<div>\n",
       "<style>\n",
       "    .dataframe thead tr:only-child th {\n",
       "        text-align: right;\n",
       "    }\n",
       "\n",
       "    .dataframe thead th {\n",
       "        text-align: left;\n",
       "    }\n",
       "\n",
       "    .dataframe tbody tr th {\n",
       "        vertical-align: top;\n",
       "    }\n",
       "</style>\n",
       "<table border=\"1\" class=\"dataframe\">\n",
       "  <thead>\n",
       "    <tr style=\"text-align: right;\">\n",
       "      <th></th>\n",
       "      <th>pred</th>\n",
       "    </tr>\n",
       "    <tr>\n",
       "      <th>actual</th>\n",
       "      <th></th>\n",
       "    </tr>\n",
       "  </thead>\n",
       "  <tbody>\n",
       "    <tr>\n",
       "      <th>0</th>\n",
       "      <td>0.315298</td>\n",
       "    </tr>\n",
       "    <tr>\n",
       "      <th>1</th>\n",
       "      <td>0.333164</td>\n",
       "    </tr>\n",
       "    <tr>\n",
       "      <th>2</th>\n",
       "      <td>0.428252</td>\n",
       "    </tr>\n",
       "  </tbody>\n",
       "</table>\n",
       "</div>"
      ],
      "text/plain": [
       "            pred\n",
       "actual          \n",
       "0       0.315298\n",
       "1       0.333164\n",
       "2       0.428252"
      ]
     },
     "execution_count": 76,
     "metadata": {},
     "output_type": "execute_result"
    }
   ],
   "source": [
    "result.groupby(['actual']).mean()"
   ]
  },
  {
   "cell_type": "code",
   "execution_count": 77,
   "metadata": {},
   "outputs": [
    {
     "data": {
      "text/plain": [
       "Ttest_indResult(statistic=-2.8181045670735676, pvalue=0.0053984840593311366)"
      ]
     },
     "execution_count": 77,
     "metadata": {},
     "output_type": "execute_result"
    }
   ],
   "source": [
    "from scipy import stats\n",
    "stats.ttest_ind(result[result[\"actual\"]==0][\"pred\"].values, result[(result[\"actual\"]==1) | (result[\"actual\"]==2)][\"pred\"].values, equal_var=False)"
   ]
  },
  {
   "cell_type": "code",
   "execution_count": 78,
   "metadata": {},
   "outputs": [
    {
     "data": {
      "text/plain": [
       "F_onewayResult(statistic=10.908951093099995, pvalue=2.4213566628324593e-05)"
      ]
     },
     "execution_count": 78,
     "metadata": {},
     "output_type": "execute_result"
    }
   ],
   "source": [
    "stats.f_oneway(result[result[\"actual\"]==0][\"pred\"].values, result[result[\"actual\"]==1][\"pred\"].values, result[result[\"actual\"]==2][\"pred\"].values)"
   ]
  },
  {
   "cell_type": "markdown",
   "metadata": {},
   "source": [
    "---"
   ]
  },
  {
   "cell_type": "markdown",
   "metadata": {},
   "source": [
    "## まとめ"
   ]
  },
  {
   "cell_type": "markdown",
   "metadata": {},
   "source": [
    "#### 違うクラス（0,1,2）間、予測値の平均差の検定"
   ]
  },
  {
   "cell_type": "markdown",
   "metadata": {},
   "source": [
    "- 気圧要因のみ（三日前までの差、週間集計最大最小平均含み）\n",
    "    - t検定のp-value：0.0315\n",
    "    - 0.05水準で有意, 0.01水準で有意ではない"
   ]
  },
  {
   "cell_type": "markdown",
   "metadata": {},
   "source": [
    "- 気圧、気温要因のみ（三日前までの差、週間集計最大最小平均含み）\n",
    "    - t検定のp-value：0.00540\n",
    "    - 0.01水準で有意, 0.005水準で有意ではない"
   ]
  },
  {
   "cell_type": "markdown",
   "metadata": {},
   "source": [
    "- 全要因（三日前までの差、週間集計最大最小平均含み）\n",
    "    - t検定のp-value：3.14e-06\n",
    "    - 有意"
   ]
  },
  {
   "cell_type": "markdown",
   "metadata": {},
   "source": [
    "#### 全要因で訓練後、予測の平均値："
   ]
  },
  {
   "cell_type": "code",
   "execution_count": 51,
   "metadata": {
    "scrolled": true
   },
   "outputs": [
    {
     "data": {
      "text/html": [
       "<div>\n",
       "<style>\n",
       "    .dataframe thead tr:only-child th {\n",
       "        text-align: right;\n",
       "    }\n",
       "\n",
       "    .dataframe thead th {\n",
       "        text-align: left;\n",
       "    }\n",
       "\n",
       "    .dataframe tbody tr th {\n",
       "        vertical-align: top;\n",
       "    }\n",
       "</style>\n",
       "<table border=\"1\" class=\"dataframe\">\n",
       "  <thead>\n",
       "    <tr style=\"text-align: right;\">\n",
       "      <th></th>\n",
       "      <th>pred</th>\n",
       "    </tr>\n",
       "    <tr>\n",
       "      <th>actual</th>\n",
       "      <th></th>\n",
       "    </tr>\n",
       "  </thead>\n",
       "  <tbody>\n",
       "    <tr>\n",
       "      <th>0</th>\n",
       "      <td>0.308215</td>\n",
       "    </tr>\n",
       "    <tr>\n",
       "      <th>1</th>\n",
       "      <td>0.374263</td>\n",
       "    </tr>\n",
       "    <tr>\n",
       "      <th>2</th>\n",
       "      <td>0.429413</td>\n",
       "    </tr>\n",
       "  </tbody>\n",
       "</table>\n",
       "</div>"
      ],
      "text/plain": [
       "            pred\n",
       "actual          \n",
       "0       0.308215\n",
       "1       0.374263\n",
       "2       0.429413"
      ]
     },
     "execution_count": 51,
     "metadata": {},
     "output_type": "execute_result"
    }
   ],
   "source": [
    "result.groupby(['actual']).mean()"
   ]
  },
  {
   "cell_type": "markdown",
   "metadata": {},
   "source": [
    "#### その他"
   ]
  },
  {
   "cell_type": "markdown",
   "metadata": {},
   "source": [
    "- 有意差であるが、実応用は難しいです。"
   ]
  },
  {
   "cell_type": "markdown",
   "metadata": {},
   "source": [
    "- 関連しそうな要因を集め、一回分散分析してみたら、どうですか？\n",
    "- 地域の差があるかもしれないので、異なる地域のデータを集めていただければ幸いです。\n",
    "- CrossValidation, Stacking, Emsembleなど複数モデルにおける解析方法は使ってませんが、わずかな改善があるかもしれません。"
   ]
  },
  {
   "cell_type": "markdown",
   "metadata": {},
   "source": [
    "---"
   ]
  },
  {
   "cell_type": "markdown",
   "metadata": {},
   "source": [
    "追記：発病数（sum）ではなくて、発病率（sum/count）のはずです。\n",
    "上記の解析は無意味です。"
   ]
  },
  {
   "cell_type": "markdown",
   "metadata": {},
   "source": [
    "## Plan4\n",
    "発病率から計算する"
   ]
  },
  {
   "cell_type": "code",
   "execution_count": 80,
   "metadata": {
    "collapsed": true
   },
   "outputs": [],
   "source": [
    "df6 = df.groupby(\"date\", as_index=False)[\"px\"].sum()\n",
    "df6[\"px\"] /= df.groupby(\"date\")[\"px\"].count().values\n",
    "for i in df.columns[(df.columns!=\"px\") & (df.columns!=\"hos\") & (df.columns!=\"date\")]:\n",
    "    tmp = df.groupby(\"date\", as_index=False)[i].mean()\n",
    "    df6 = pd.merge(df6, tmp, how='left', on=['date']) "
   ]
  },
  {
   "cell_type": "code",
   "execution_count": 81,
   "metadata": {
    "collapsed": true
   },
   "outputs": [],
   "source": [
    "tmp = df6.groupby([pd.Grouper(freq='W', key='date')])['pre_low'].min()\n",
    "tmplist = []\n",
    "for i in tmp:\n",
    "    tmplist.extend([i]*7)\n",
    "df6[\"min_pre_low\"] = np.array(tmplist)[:len(df6)]\n",
    "\n",
    "tmp = df6.groupby([pd.Grouper(freq='W', key='date')])['pre_high'].max()\n",
    "tmplist = []\n",
    "for i in tmp:\n",
    "    tmplist.extend([i]*7)\n",
    "df6[\"max_pre_high\"] = np.array(tmplist)[:len(df6)]\n",
    "\n",
    "tmp = df6.groupby([pd.Grouper(freq='W', key='date')])['pre_avg_loc'].mean()\n",
    "tmplist = []\n",
    "for i in tmp:\n",
    "    tmplist.extend([i]*7)\n",
    "df6[\"mean_pre_avg_loc\"] = np.array(tmplist)[:len(df6)]\n",
    "\n",
    "tmp = df6.groupby([pd.Grouper(freq='W', key='date')])['temp_high'].max()\n",
    "tmplist = []\n",
    "for i in tmp:\n",
    "    tmplist.extend([i]*7)\n",
    "df6[\"max_temp_high\"] = np.array(tmplist)[:len(df6)]\n",
    "\n",
    "tmp = df6.groupby([pd.Grouper(freq='W', key='date')])['temp_low'].min()\n",
    "tmplist = []\n",
    "for i in tmp:\n",
    "    tmplist.extend([i]*7)\n",
    "df6[\"min_temp_low\"] = np.array(tmplist)[:len(df6)]\n",
    "\n",
    "tmp = df6.groupby([pd.Grouper(freq='W', key='date')])['temp_avg'].mean()\n",
    "tmplist = []\n",
    "for i in tmp:\n",
    "    tmplist.extend([i]*7)\n",
    "df6[\"mean_temp_avg\"] = np.array(tmplist)[:len(df6)]\n",
    "\n",
    "tmp = df6.groupby([pd.Grouper(freq='W', key='date')])['hum_avg'].mean()\n",
    "tmplist = []\n",
    "for i in tmp:\n",
    "    tmplist.extend([i]*7)\n",
    "df6[\"mean_hum_avg\"] = np.array(tmplist)[:len(df6)]\n",
    "\n",
    "tmp = df6.groupby([pd.Grouper(freq='W', key='date')])['hum_low'].min()\n",
    "tmplist = []\n",
    "for i in tmp:\n",
    "    tmplist.extend([i]*7)\n",
    "df6[\"min_hum_low\"] = np.array(tmplist)[:len(df6)]"
   ]
  },
  {
   "cell_type": "code",
   "execution_count": 82,
   "metadata": {
    "collapsed": true
   },
   "outputs": [],
   "source": [
    "df6[\"diff_pre\"] = df6[\"pre_high\"]-df6[\"pre_low\"]\n",
    "df6[\"diff_temp\"] = df6[\"temp_high\"]-df6[\"temp_low\"]"
   ]
  },
  {
   "cell_type": "code",
   "execution_count": 83,
   "metadata": {
    "collapsed": true
   },
   "outputs": [],
   "source": [
    "df6[\"diff_pre_1\"] = pd.Series(np.insert(df6[\"pre_high\"].values[1:]-df6[\"pre_low\"].values[:-1], 0, np.nan, axis=0))\n",
    "df6[\"diff_pre_1_re\"] = pd.Series(np.insert(df6[\"pre_low\"].values[1:]-df6[\"pre_high\"].values[:-1], 0, np.nan, axis=0))\n",
    "df6[\"diff_pre_2\"] = pd.Series(np.insert(df6[\"pre_high\"].values[2:]-df6[\"pre_low\"].values[:-2], 0, [np.nan,np.nan], axis=0))\n",
    "df6[\"diff_pre_2_re\"] = pd.Series(np.insert(df6[\"pre_low\"].values[2:]-df6[\"pre_high\"].values[:-2], 0, [np.nan,np.nan], axis=0))\n",
    "df6[\"diff_pre_3\"] = pd.Series(np.insert(df6[\"pre_high\"].values[3:]-df6[\"pre_low\"].values[:-3], 0, [np.nan,np.nan,np.nan], axis=0))\n",
    "df6[\"diff_pre_3_re\"] = pd.Series(np.insert(df6[\"pre_low\"].values[3:]-df6[\"pre_high\"].values[:-3], 0, [np.nan,np.nan,np.nan], axis=0))\n",
    "\n",
    "df6[\"diff_temp_1\"] = pd.Series(np.insert(df6[\"temp_high\"].values[1:]-df6[\"temp_low\"].values[:-1], 0, np.nan, axis=0))\n",
    "df6[\"diff_temp_1_re\"] = pd.Series(np.insert(df6[\"temp_low\"].values[1:]-df6[\"temp_high\"].values[:-1], 0, np.nan, axis=0))\n",
    "df6[\"diff_temp_2\"] = pd.Series(np.insert(df6[\"temp_high\"].values[2:]-df6[\"temp_low\"].values[:-2], 0, [np.nan,np.nan], axis=0))\n",
    "df6[\"diff_temp_2_re\"] = pd.Series(np.insert(df6[\"temp_low\"].values[2:]-df6[\"temp_high\"].values[:-2], 0, [np.nan,np.nan], axis=0))\n",
    "df6[\"diff_temp_3\"] = pd.Series(np.insert(df6[\"temp_high\"].values[3:]-df6[\"temp_low\"].values[:-3], 0, [np.nan,np.nan,np.nan], axis=0))\n",
    "df6[\"diff_temp_3_re\"] = pd.Series(np.insert(df6[\"temp_low\"].values[3:]-df6[\"temp_high\"].values[:-3], 0, [np.nan,np.nan,np.nan], axis=0))"
   ]
  },
  {
   "cell_type": "code",
   "execution_count": 84,
   "metadata": {
    "collapsed": true
   },
   "outputs": [],
   "source": [
    "df6 = df6.dropna()"
   ]
  },
  {
   "cell_type": "code",
   "execution_count": 85,
   "metadata": {},
   "outputs": [
    {
     "data": {
      "text/plain": [
       "Index(['date', 'px', 'year', 'month', 'day', 'pre_avg_loc', 'pre_avg_sea',\n",
       "       'rain', 'temp_avg', 'temp_high', 'temp_low', 'hum_avg', 'hum_low',\n",
       "       'wind_avg', 'wind_max', 'wind_max_ins', 'sun', 'pre_high', 'pre_low',\n",
       "       'day_of_week', 'week_number', 'min_pre_low', 'max_pre_high',\n",
       "       'mean_pre_avg_loc', 'max_temp_high', 'min_temp_low', 'mean_temp_avg',\n",
       "       'mean_hum_avg', 'min_hum_low', 'diff_pre', 'diff_temp', 'diff_pre_1',\n",
       "       'diff_pre_1_re', 'diff_pre_2', 'diff_pre_2_re', 'diff_pre_3',\n",
       "       'diff_pre_3_re', 'diff_temp_1', 'diff_temp_1_re', 'diff_temp_2',\n",
       "       'diff_temp_2_re', 'diff_temp_3', 'diff_temp_3_re'],\n",
       "      dtype='object')"
      ]
     },
     "execution_count": 85,
     "metadata": {},
     "output_type": "execute_result"
    }
   ],
   "source": [
    "df6.columns"
   ]
  },
  {
   "cell_type": "code",
   "execution_count": 86,
   "metadata": {
    "collapsed": true
   },
   "outputs": [],
   "source": [
    "df6 = df6.drop([\"date\",\"year\"],axis=1)"
   ]
  },
  {
   "cell_type": "code",
   "execution_count": 87,
   "metadata": {
    "collapsed": true
   },
   "outputs": [],
   "source": [
    "#df6.loc[df6[\"px\"]!=0,\"px\"] = 1"
   ]
  },
  {
   "cell_type": "code",
   "execution_count": 88,
   "metadata": {
    "collapsed": true
   },
   "outputs": [],
   "source": [
    "X = df6.drop(\"px\",axis=1)\n",
    "y = df6[\"px\"]"
   ]
  },
  {
   "cell_type": "code",
   "execution_count": 89,
   "metadata": {
    "collapsed": true
   },
   "outputs": [],
   "source": [
    "from sklearn.model_selection import train_test_split\n",
    "\n",
    "X_train, X_test, y_train, y_test = train_test_split(X.values, y.values, test_size=0.2, random_state=random_state)"
   ]
  },
  {
   "cell_type": "code",
   "execution_count": 90,
   "metadata": {},
   "outputs": [
    {
     "name": "stdout",
     "output_type": "stream",
     "text": [
      "Fitting 3 folds for each of 81 candidates, totalling 243 fits\n",
      "{'min_child_weight': 0.001, 'reg_alpha': 0.1, 'reg_lambda': 0.0, 'subsample_freq': 1}\n"
     ]
    },
    {
     "name": "stderr",
     "output_type": "stream",
     "text": [
      "[Parallel(n_jobs=1)]: Done 243 out of 243 | elapsed:    4.6s finished\n"
     ]
    }
   ],
   "source": [
    "import lightgbm as lgb\n",
    "from sklearn.model_selection import GridSearchCV\n",
    "\n",
    "lgb_train = lgb.Dataset(X_train, y_train)\n",
    "lgb_eval = lgb.Dataset(X_test, y_test, reference=lgb_train)\n",
    "\n",
    "model = lgb.LGBMRegressor(learning_rate=0.05)\n",
    "\n",
    "model_cv = GridSearchCV(model, {'min_child_weight':[0.001,0.01,0.0001],'subsample_freq':[1,3,5],'reg_alpha':[0.0,0.1,0.3],'reg_lambda':[0.0,0.1,0.3]}, verbose=1)\n",
    "model_cv.fit(X_train, y_train)\n",
    "print(model_cv.best_params_)\n",
    "\n",
    "\"\"\"params = {\n",
    "    'random_state': random_state,\n",
    "    'colsample_bytree': 1, \n",
    "    'min_child_samples': 10, \n",
    "    'num_leaves': 50, \n",
    "    'subsample': 0.5\n",
    "}\"\"\"\n",
    "\n",
    "model = lgb.LGBMRegressor(**model_cv.best_params_)\n",
    "model.fit(X_train, y_train)\n",
    "y_pred = model.predict(X_test)"
   ]
  },
  {
   "cell_type": "code",
   "execution_count": 91,
   "metadata": {},
   "outputs": [
    {
     "data": {
      "text/plain": [
       "0.048270903062959621"
      ]
     },
     "execution_count": 91,
     "metadata": {},
     "output_type": "execute_result"
    }
   ],
   "source": [
    "from sklearn.metrics import mean_squared_error\n",
    "mean_squared_error(y_test, y_pred)"
   ]
  },
  {
   "cell_type": "code",
   "execution_count": 92,
   "metadata": {
    "collapsed": true
   },
   "outputs": [],
   "source": [
    "result = pd.DataFrame({\n",
    "    \"actual\": y_test,\n",
    "    \"pred\": y_pred\n",
    "})"
   ]
  },
  {
   "cell_type": "code",
   "execution_count": 93,
   "metadata": {
    "collapsed": true
   },
   "outputs": [],
   "source": [
    "#result.to_csv('result3.csv', index=False)"
   ]
  },
  {
   "cell_type": "code",
   "execution_count": 94,
   "metadata": {},
   "outputs": [
    {
     "data": {
      "text/html": [
       "<div>\n",
       "<style>\n",
       "    .dataframe thead tr:only-child th {\n",
       "        text-align: right;\n",
       "    }\n",
       "\n",
       "    .dataframe thead th {\n",
       "        text-align: left;\n",
       "    }\n",
       "\n",
       "    .dataframe tbody tr th {\n",
       "        vertical-align: top;\n",
       "    }\n",
       "</style>\n",
       "<table border=\"1\" class=\"dataframe\">\n",
       "  <thead>\n",
       "    <tr style=\"text-align: right;\">\n",
       "      <th></th>\n",
       "      <th>pred</th>\n",
       "    </tr>\n",
       "    <tr>\n",
       "      <th>actual</th>\n",
       "      <th></th>\n",
       "    </tr>\n",
       "  </thead>\n",
       "  <tbody>\n",
       "    <tr>\n",
       "      <th>0.000000</th>\n",
       "      <td>0.109267</td>\n",
       "    </tr>\n",
       "    <tr>\n",
       "      <th>0.142857</th>\n",
       "      <td>0.103063</td>\n",
       "    </tr>\n",
       "    <tr>\n",
       "      <th>0.166667</th>\n",
       "      <td>0.103761</td>\n",
       "    </tr>\n",
       "    <tr>\n",
       "      <th>0.200000</th>\n",
       "      <td>0.096236</td>\n",
       "    </tr>\n",
       "    <tr>\n",
       "      <th>0.250000</th>\n",
       "      <td>0.103256</td>\n",
       "    </tr>\n",
       "    <tr>\n",
       "      <th>0.285714</th>\n",
       "      <td>0.107934</td>\n",
       "    </tr>\n",
       "    <tr>\n",
       "      <th>0.333333</th>\n",
       "      <td>0.115084</td>\n",
       "    </tr>\n",
       "    <tr>\n",
       "      <th>0.400000</th>\n",
       "      <td>0.106418</td>\n",
       "    </tr>\n",
       "    <tr>\n",
       "      <th>0.500000</th>\n",
       "      <td>0.091159</td>\n",
       "    </tr>\n",
       "    <tr>\n",
       "      <th>1.000000</th>\n",
       "      <td>0.129021</td>\n",
       "    </tr>\n",
       "  </tbody>\n",
       "</table>\n",
       "</div>"
      ],
      "text/plain": [
       "              pred\n",
       "actual            \n",
       "0.000000  0.109267\n",
       "0.142857  0.103063\n",
       "0.166667  0.103761\n",
       "0.200000  0.096236\n",
       "0.250000  0.103256\n",
       "0.285714  0.107934\n",
       "0.333333  0.115084\n",
       "0.400000  0.106418\n",
       "0.500000  0.091159\n",
       "1.000000  0.129021"
      ]
     },
     "execution_count": 94,
     "metadata": {},
     "output_type": "execute_result"
    }
   ],
   "source": [
    "result.groupby(['actual']).mean()"
   ]
  },
  {
   "cell_type": "code",
   "execution_count": 95,
   "metadata": {},
   "outputs": [
    {
     "data": {
      "text/plain": [
       "Ttest_indResult(statistic=0.57535346525683162, pvalue=0.5657976702700106)"
      ]
     },
     "execution_count": 95,
     "metadata": {},
     "output_type": "execute_result"
    }
   ],
   "source": [
    "from scipy import stats\n",
    "stats.ttest_ind(result[result[\"actual\"]==0][\"pred\"].values, result[(result[\"actual\"]!=0)][\"pred\"].values, equal_var=False)"
   ]
  },
  {
   "cell_type": "markdown",
   "metadata": {},
   "source": [
    "発病率から計算すると、関係がないことです。"
   ]
  },
  {
   "cell_type": "code",
   "execution_count": null,
   "metadata": {
    "collapsed": true
   },
   "outputs": [],
   "source": []
  },
  {
   "cell_type": "code",
   "execution_count": null,
   "metadata": {
    "collapsed": true
   },
   "outputs": [],
   "source": []
  }
 ],
 "metadata": {
  "kernelspec": {
   "display_name": "Python 3",
   "language": "python",
   "name": "python3"
  },
  "language_info": {
   "codemirror_mode": {
    "name": "ipython",
    "version": 3
   },
   "file_extension": ".py",
   "mimetype": "text/x-python",
   "name": "python",
   "nbconvert_exporter": "python",
   "pygments_lexer": "ipython3",
   "version": "3.6.1"
  }
 },
 "nbformat": 4,
 "nbformat_minor": 2
}
